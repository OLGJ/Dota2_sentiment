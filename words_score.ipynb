Overall sentiment dictionary for carry:  {'neg': 0.0, 'neu': 1.0, 'pos': 0.0, 'compound': 0.0}
Word was rated as  0.0 % Negative
Word was rated as  100.0 % Neutral
Word was rated as  0.0 % Positive
Word Overall Rated As Overall sentiment dictionary for fuck:  {'neg': 1.0, 'neu': 0.0, 'pos': 0.0, 'compound': -0.5423}
Word was rated as  100.0 % Negative
Word was rated as  0.0 % Neutral
Word was rated as  0.0 % Positive
Word Overall Rated As Overall sentiment dictionary for wp gg:  {'neg': 0.0, 'neu': 0.0, 'pos': 1.0, 'compound': 0.4939}
Word was rated as  0.0 % Negative
Word was rated as  0.0 % Neutral
Word was rated as  100.0 % Positive
Word Overall Rated As Overall sentiment dictionary for game:  {'neg': 0.0, 'neu': 1.0, 'pos': 0.0, 'compound': 0.0}
Word was rated as  0.0 % Negative
Word was rated as  100.0 % Neutral
Word was rated as  0.0 % Positive
Word Overall Rated As Overall sentiment dictionary for e:  {'neg': 0.0, 'neu': 1.0, 'pos': 0.0, 'compound': 0.0}
Word was rated as  0.0 % Negative
Word was rated as  100.0 % Neutral
Word was rated as  0.0 % Positive
Word Overall Rated As Overall sentiment dictionary for commend:  {'neg': 0.0, 'neu': 0.0, 'pos': 1.0, 'compound': 0.4404}
Word was rated as  0.0 % Negative
Word was rated as  0.0 % Neutral
Word was rated as  100.0 % Positive
Word Overall Rated As Overall sentiment dictionary for D:  {'neg': 0.0, 'neu': 1.0, 'pos': 0.0, 'compound': 0.0}
Word was rated as  0.0 % Negative
Word was rated as  100.0 % Neutral
Word was rated as  0.0 % Positive
Word Overall Rated As Overall sentiment dictionary for shit:  {'neg': 1.0, 'neu': 0.0, 'pos': 0.0, 'compound': -0.5574}
Word was rated as  100.0 % Negative
Word was rated as  0.0 % Neutral
Word was rated as  0.0 % Positive
Word Overall Rated As Overall sentiment dictionary for gg gg:  {'neg': 0.0, 'neu': 0.0, 'pos': 1.0, 'compound': 0.5267}
Word was rated as  0.0 % Negative
Word was rated as  0.0 % Neutral
Word was rated as  100.0 % Positive
Word Overall Rated As Overall sentiment dictionary for v:  {'neg': 0.0, 'neu': 1.0, 'pos': 0.0, 'compound': 0.0}
Word was rated as  0.0 % Negative
Word was rated as  100.0 % Neutral
Word was rated as  0.0 % Positive
Word Overall Rated As Overall sentiment dictionary for ez mid:  {'neg': 0.0, 'neu': 0.286, 'pos': 0.714, 'compound': 0.3612}
Word was rated as  0.0 % Negative
Word was rated as  28.599999999999998 % Neutral
Word was rated as  71.39999999999999 % Positive
Word Overall Rated As Overall sentiment dictionary for noob:  {'neg': 1.0, 'neu': 0.0, 'pos': 0.0, 'compound': -0.0516}
Word was rated as  100.0 % Negative
Word was rated as  0.0 % Neutral
Word was rated as  0.0 % Positive
Word Overall Rated As Overall sentiment dictionary for sf:  {'neg': 0.0, 'neu': 1.0, 'pos': 0.0, 'compound': 0.0}
Word was rated as  0.0 % Negative
Word was rated as  100.0 % Neutral
Word was rated as  0.0 % Positive
Word Overall Rated As Overall sentiment dictionary for haha:  {'neg': 0.0, 'neu': 0.0, 'pos': 1.0, 'compound': 0.4588}
Word was rated as  0.0 % Negative
Word was rated as  0.0 % Neutral
Word was rated as  100.0 % Positive
Word Overall Rated As Overall sentiment dictionary for ok:  {'neg': 0.0, 'neu': 0.0, 'pos': 1.0, 'compound': 0.296}
Word was rated as  0.0 % Negative
Word was rated as  0.0 % Neutral
Word was rated as  100.0 % Positive
Word Overall Rated As Overall sentiment dictionary for ty:  {'neg': 0.0, 'neu': 0.0, 'pos': 1.0, 'compound': 0.3818}
Word was rated as  0.0 % Negative
Word was rated as  0.0 % Neutral
Word was rated as  100.0 % Positive
Word Overall Rated As Overall sentiment dictionary for team:  {'neg': 0.0, 'neu': 1.0, 'pos': 0.0, 'compound': 0.0}
Word was rated as  0.0 % Negative
Word was rated as  100.0 % Neutral
Word was rated as  0.0 % Positive
Word Overall Rated As Overall sentiment dictionary for good:  {'neg': 0.0, 'neu': 0.0, 'pos': 1.0, 'compound': 0.4404}
Word was rated as  0.0 % Negative
Word was rated as  0.0 % Neutral
Word was rated as  100.0 % Positive
Word Overall Rated As Overall sentiment dictionary for lol:  {'neg': 0.0, 'neu': 0.0, 'pos': 1.0, 'compound': 0.4215}
Word was rated as  0.0 % Negative
Word was rated as  0.0 % Neutral
Word was rated as  100.0 % Positive
Word Overall Rated As Overall sentiment dictionary for ur:  {'neg': 0.0, 'neu': 1.0, 'pos': 0.0, 'compound': 0.0}
Word was rated as  0.0 % Negative
Word was rated as  100.0 % Neutral
Word was rated as  0.0 % Positive
Word Overall Rated As Overall sentiment dictionary for nice:  {'neg': 0.0, 'neu': 0.0, 'pos': 1.0, 'compound': 0.4215}
Word was rated as  0.0 % Negative
Word was rated as  0.0 % Neutral
Word was rated as  100.0 % Positive
Word Overall Rated As Overall sentiment dictionary for gg ez:  {'neg': 0.0, 'neu': 0.0, 'pos': 1.0, 'compound': 0.5719}
Word was rated as  0.0 % Negative
Word was rated as  0.0 % Neutral
Word was rated as  100.0 % Positive
Word Overall Rated As Overall sentiment dictionary for im:  {'neg': 0.0, 'neu': 1.0, 'pos': 0.0, 'compound': 0.0}
Word was rated as  0.0 % Negative
Word was rated as  100.0 % Neutral
Word was rated as  0.0 % Positive
Word Overall Rated As Overall sentiment dictionary for guy:  {'neg': 0.0, 'neu': 1.0, 'pos': 0.0, 'compound': 0.0}
Word was rated as  0.0 % Negative
Word was rated as  100.0 % Neutral
Word was rated as  0.0 % Positive
Word Overall Rated As Overall sentiment dictionary for fucking:  {'neg': 0.0, 'neu': 1.0, 'pos': 0.0, 'compound': 0.0}
Word was rated as  0.0 % Negative
Word was rated as  100.0 % Neutral
Word was rated as  0.0 % Positive
Word Overall Rated As Overall sentiment dictionary for go:  {'neg': 0.0, 'neu': 1.0, 'pos': 0.0, 'compound': 0.0}
Word was rated as  0.0 % Negative
Word was rated as  100.0 % Neutral
Word was rated as  0.0 % Positive
Word Overall Rated As Overall sentiment dictionary for mid:  {'neg': 0.0, 'neu': 1.0, 'pos': 0.0, 'compound': 0.0}
Word was rated as  0.0 % Negative
Word was rated as  100.0 % Neutral
Word was rated as  0.0 % Positive
Word Overall Rated As Overall sentiment dictionary for wtf:  {'neg': 1.0, 'neu': 0.0, 'pos': 0.0, 'compound': -0.5859}
Word was rated as  100.0 % Negative
Word was rated as  0.0 % Neutral
Word was rated as  0.0 % Positive
Word Overall Rated As Overall sentiment dictionary for rofl:  {'neg': 0.0, 'neu': 0.0, 'pos': 1.0, 'compound': 0.5719}
Word was rated as  0.0 % Negative
Word was rated as  0.0 % Neutral
Word was rated as  100.0 % Positive
Word Overall Rated As Overall sentiment dictionary for report:  {'neg': 0.0, 'neu': 1.0, 'pos': 0.0, 'compound': 0.0}
Word was rated as  0.0 % Negative
Word was rated as  100.0 % Neutral
Word was rated as  0.0 % Positive
Word Overall Rated As Overall sentiment dictionary for pl:  {'neg': 0.0, 'neu': 1.0, 'pos': 0.0, 'compound': 0.0}
Word was rated as  0.0 % Negative
Word was rated as  100.0 % Neutral
Word was rated as  0.0 % Positive
Word Overall Rated As Overall sentiment dictionary for gg wp:  {'neg': 0.0, 'neu': 0.0, 'pos': 1.0, 'compound': 0.4939}
Word was rated as  0.0 % Negative
Word was rated as  0.0 % Neutral
Word was rated as  100.0 % Positive
Word Overall Rated As Overall sentiment dictionary for XD:  {'neg': 0.0, 'neu': 0.0, 'pos': 1.0, 'compound': 0.5859}
Word was rated as  0.0 % Negative
Word was rated as  0.0 % Neutral
Word was rated as  100.0 % Positive
Word Overall Rated As Overall sentiment dictionary for u:  {'neg': 0.0, 'neu': 1.0, 'pos': 0.0, 'compound': 0.0}
Word was rated as  0.0 % Negative
Word was rated as  100.0 % Neutral
Word was rated as  0.0 % Positive
Word Overall Rated As Overall sentiment dictionary for ez:  {'neg': 0.0, 'neu': 0.0, 'pos': 1.0, 'compound': 0.3612}
Word was rated as  0.0 % Negative
Word was rated as  0.0 % Neutral
Word was rated as  100.0 % Positive
Word Overall Rated As 