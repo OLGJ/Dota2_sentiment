{
 "cells": [
  {
   "attachments": {},
   "cell_type": "markdown",
   "metadata": {},
   "source": [
    "# Text mining project\n",
    "\n",
    "## Dota 2 chat toxicity"
   ]
  },
  {
   "attachments": {},
   "cell_type": "markdown",
   "metadata": {},
   "source": [
    "### Sampling public matches"
   ]
  },
  {
   "cell_type": "code",
   "execution_count": 3,
   "metadata": {},
   "outputs": [],
   "source": [
    "from ratelimit import limits, sleep_and_retry\n",
    "import requests\n",
    "\n",
    "ONE_MINUTE = 60 # Max calls per minutes in seconds\n",
    "# Check API limit of 60 calls per minute before making request\n",
    "@sleep_and_retry\n",
    "@limits(calls=60, period=ONE_MINUTE)\n",
    "def call_api(url, params):\n",
    "    response = requests.get(url, params=params)\n",
    "\n",
    "    if response.status_code != 200:\n",
    "        raise Exception('API response: {}'.format(response.status_code))\n",
    "    return response\n",
    "\n",
    "\n",
    "\n",
    "matches = [] # list with tuples of match id and avg mmr\n",
    "\n",
    "min_id = 6628404859 # specify some min nr of match id as start\n",
    "\n",
    "for i in range(120):  \n",
    "    \n",
    "    min_id += i*5000 \n",
    "    url = \"https://api.opendota.com/api/publicMatches\"\n",
    "    params = {'less_than_match_id': min_id} # min match id to sample from\n",
    "\n",
    "    # get response\n",
    "    response = call_api(url=url, params=params)\n",
    "    data = response.json()\n",
    "\n",
    "    # Check if a previous sample included the match id, otherwise add it to list\n",
    "    for match in data:\n",
    "        try: \n",
    "            match_id = match['match_id']\n",
    "            avg_mmr = match['avg_mmr']\n",
    "            # Check if avg_mmr is None, which is indicative of it being a pro match, meaning we exclude it.\n",
    "            if avg_mmr is None:\n",
    "                pass\n",
    "        except TypeError: \n",
    "            pass\n",
    "        \n",
    "        if (match_id, avg_mmr) not in matches:\n",
    "            matches.append((match_id, avg_mmr))"
   ]
  },
  {
   "cell_type": "code",
   "execution_count": 24,
   "metadata": {},
   "outputs": [],
   "source": [
    "# Some matches with avg_mmr == None are removed\n",
    "public_matches = [(id, mmr) for id, mmr in matches if mmr is not None]\n",
    "\n",
    "# To not exceed rate limit per month, save these to a txt file.\n",
    "\n",
    "#with open('public_matches.txt', 'w') as f:\n",
    "#    for line in public_matches:\n",
    "#        f.write(f\"{line}\\n\")"
   ]
  },
  {
   "attachments": {},
   "cell_type": "markdown",
   "metadata": {},
   "source": [
    "#### Run Below cell to read from txt file"
   ]
  },
  {
   "cell_type": "code",
   "execution_count": 2,
   "metadata": {},
   "outputs": [],
   "source": [
    "# Initialize an empty list to store the tuples\n",
    "public_matches = []\n",
    "\n",
    "# Open the file in reading mode\n",
    "with open(\"public_matches.txt\", \"r\") as file:\n",
    "    # Read the lines of the file into a list\n",
    "    lines = file.readlines()\n",
    "\n",
    "# Iterate over the lines\n",
    "for line in lines:\n",
    "    # Strip the leading and trailing whitespace from the line\n",
    "    line = line.strip()\n",
    "    # Split the line into a tuple of values\n",
    "    values = line.strip(\"()\").split(\", \")\n",
    "    # Convert the values to integers\n",
    "    values = [int(x) for x in values]\n",
    "    # Add the tuple to the list\n",
    "    public_matches.append(tuple(values))\n"
   ]
  },
  {
   "attachments": {},
   "cell_type": "markdown",
   "metadata": {},
   "source": [
    "### Get chat logs from public matches"
   ]
  },
  {
   "cell_type": "code",
   "execution_count": 3,
   "metadata": {},
   "outputs": [
    {
     "data": {
      "text/plain": [
       "6678"
      ]
     },
     "execution_count": 3,
     "metadata": {},
     "output_type": "execute_result"
    }
   ],
   "source": [
    "len(public_matches)"
   ]
  },
  {
   "attachments": {},
   "cell_type": "markdown",
   "metadata": {},
   "source": [
    "#### Split data into batches"
   ]
  },
  {
   "cell_type": "code",
   "execution_count": 59,
   "metadata": {},
   "outputs": [
    {
     "ename": "NameError",
     "evalue": "name 'public_matches' is not defined",
     "output_type": "error",
     "traceback": [
      "\u001b[1;31m---------------------------------------------------------------------------\u001b[0m",
      "\u001b[1;31mNameError\u001b[0m                                 Traceback (most recent call last)",
      "\u001b[1;32mc:\\Users\\Olof\\Documents\\Python\\textminingproject\\txtproj.ipynb Cell 10\u001b[0m in \u001b[0;36m<module>\u001b[1;34m\u001b[0m\n\u001b[0;32m      <a href='vscode-notebook-cell:/c%3A/Users/Olof/Documents/Python/textminingproject/txtproj.ipynb#X12sZmlsZQ%3D%3D?line=1'>2</a>\u001b[0m     n \u001b[39m=\u001b[39m \u001b[39mmax\u001b[39m(\u001b[39m1\u001b[39m, n)\n\u001b[0;32m      <a href='vscode-notebook-cell:/c%3A/Users/Olof/Documents/Python/textminingproject/txtproj.ipynb#X12sZmlsZQ%3D%3D?line=2'>3</a>\u001b[0m     \u001b[39mreturn\u001b[39;00m (xs[i:i\u001b[39m+\u001b[39mn] \u001b[39mfor\u001b[39;00m i \u001b[39min\u001b[39;00m \u001b[39mrange\u001b[39m(\u001b[39m0\u001b[39m, \u001b[39mlen\u001b[39m(xs), n))\n\u001b[1;32m----> <a href='vscode-notebook-cell:/c%3A/Users/Olof/Documents/Python/textminingproject/txtproj.ipynb#X12sZmlsZQ%3D%3D?line=4'>5</a>\u001b[0m batches \u001b[39m=\u001b[39m \u001b[39mlist\u001b[39m(chunks(public_matches, \u001b[39m60\u001b[39m))\n",
      "\u001b[1;31mNameError\u001b[0m: name 'public_matches' is not defined"
     ]
    }
   ],
   "source": [
    "def chunks(xs, n):\n",
    "    n = max(1, n)\n",
    "    return (xs[i:i+n] for i in range(0, len(xs), n))\n",
    "\n",
    "batches = list(chunks(public_matches, 60)) # 112 batches with 60 elements(querys)\n"
   ]
  },
  {
   "cell_type": "code",
   "execution_count": 4,
   "metadata": {},
   "outputs": [
    {
     "data": {
      "text/plain": [
       "112"
      ]
     },
     "execution_count": 4,
     "metadata": {},
     "output_type": "execute_result"
    }
   ],
   "source": [
    "len(batches)"
   ]
  },
  {
   "attachments": {},
   "cell_type": "markdown",
   "metadata": {},
   "source": [
    "#### The chat dataframe we want to load everything into"
   ]
  },
  {
   "cell_type": "code",
   "execution_count": 5,
   "metadata": {},
   "outputs": [],
   "source": [
    "from ratelimit import limits, sleep_and_retry\n",
    "import requests\n",
    "ONE_MINUTE = 60 # Max calls per minutes in seconds\n",
    "# Check API limit of 60 calls per minute before making request\n",
    "@sleep_and_retry\n",
    "@limits(calls=60, period=ONE_MINUTE)\n",
    "def call_api_match(url):\n",
    "    response = requests.get(url)\n",
    "    if response.status_code != 200:\n",
    "        time.sleep(60)\n",
    "        return None\n",
    "        #raise Exception('API response: {}'.format(response.status_code))\n",
    "    #if response.status_code != 200:\n",
    "    #    raise Exception('API response: {}'.format(response.status_code))\n",
    "    else:\n",
    "        return response\n",
    "\n",
    "## parsed matches\n",
    "import pandas as pd\n",
    "import time\n",
    "\n",
    "# Create an empty DataFrame with column names according to the structure of the modified api call\n",
    "chat_dataframe = pd.DataFrame(columns = ['time', 'type', 'key', 'slot', 'player_slot', 'id', 'avg_mmr'])"
   ]
  },
  {
   "attachments": {},
   "cell_type": "markdown",
   "metadata": {},
   "source": [
    "#### Use batches to handle all the requests"
   ]
  },
  {
   "cell_type": "code",
   "execution_count": 72,
   "metadata": {},
   "outputs": [],
   "source": [
    "def call_batch(batch):\n",
    "    \"\"\"Function that takes a batch and performs the querys\"\"\"\n",
    "\n",
    "    # Create an empty DataFrame with column names according to the structure of the modified api call\n",
    "    batch_df = pd.DataFrame(columns = ['time', 'type', 'key', 'slot', 'player_slot', 'id', 'avg_mmr'])\n",
    "    # Iterate the match ids \n",
    "    for id, mmr in batch:\n",
    "        \n",
    "        url = \"https://api.opendota.com/api/matches/{}\".format(id)\n",
    "        \n",
    "        response = call_api_match(url=url)\n",
    "        if response is None:\n",
    "            continue\n",
    "        \n",
    "        data = response.json()\n",
    "        # We only care for matches with chat messages\n",
    "        if data['chat'] is not None:\n",
    "            chat_data = data['chat']\n",
    "            df = pd.DataFrame(chat_data)\n",
    "            df['id'] = id\n",
    "            df['avg_mmr'] = mmr\n",
    "\n",
    "            # Concate the current match with the others\n",
    "            batch_df = pd.concat([batch_df, df])\n",
    "    return batch_df"
   ]
  },
  {
   "cell_type": "code",
   "execution_count": null,
   "metadata": {},
   "outputs": [],
   "source": [
    "def call_subbatch(batches):\n",
    "    subbatch_df = pd.DataFrame(columns = ['time', 'type', 'key', 'slot', 'player_slot', 'id', 'avg_mmr'])\n",
    "    n = 0\n",
    "    status_string = \"success\"\n",
    "    for batch in batches:\n",
    "        try:\n",
    "\n",
    "            batch_dataframe = call_batch(batch)\n",
    "            subbatch_df = pd.concat([subbatch_df, batch_dataframe])\n",
    "            status_string = \"success\"\n",
    "            \n",
    "        except:\n",
    "            status_string = \"fail\"\n",
    "            pass\n",
    "\n",
    "        #print(\"Batch {n} finished with status: {status_string} \".format(n=n, status_string=status_string))\n",
    "        n+=1\n",
    "    return subbatch_df"
   ]
  },
  {
   "attachments": {},
   "cell_type": "markdown",
   "metadata": {},
   "source": [
    "#### Create subbatches and then call the requests to the api to avoid running into some errors"
   ]
  },
  {
   "cell_type": "code",
   "execution_count": null,
   "metadata": {},
   "outputs": [],
   "source": [
    "## Create subbatches\n",
    "batch0 = batches[:20]\n",
    "batch1 = batches[20:40]\n",
    "batch2 = batches[40:60]\n",
    "batch3 = batches[60:80]\n",
    "batch4 = batches[80:100]\n",
    "batch5 = batches[100:]"
   ]
  },
  {
   "cell_type": "code",
   "execution_count": 12,
   "metadata": {},
   "outputs": [],
   "source": [
    "\n",
    "## Call the subbbatches\n",
    "df_batch0 = call_subbatch(batch0)\n",
    "#df_batch0.to_csv('batch0.csv')"
   ]
  },
  {
   "cell_type": "code",
   "execution_count": null,
   "metadata": {},
   "outputs": [],
   "source": [
    "df_batch1 = call_subbatch(batch1)\n",
    "#df_batch1.to_csv('batch1.csv')"
   ]
  },
  {
   "cell_type": "code",
   "execution_count": null,
   "metadata": {},
   "outputs": [],
   "source": [
    "df_batch2 = call_subbatch(batch2)\n",
    "#df_batch2.to_csv('batch2.csv')"
   ]
  },
  {
   "cell_type": "code",
   "execution_count": null,
   "metadata": {},
   "outputs": [],
   "source": [
    "df_batch3 = call_subbatch(batch3)\n",
    "#df_batch3.to_csv('batch3.csv')"
   ]
  },
  {
   "cell_type": "code",
   "execution_count": null,
   "metadata": {},
   "outputs": [],
   "source": [
    "df_batch4 = call_subbatch(batch4)\n",
    "#df_batch4.to_csv('batch4.csv')"
   ]
  },
  {
   "cell_type": "code",
   "execution_count": null,
   "metadata": {},
   "outputs": [],
   "source": [
    "df_batch5 = call_subbatch(batch5)\n",
    "#df_batch5.to_csv('batch5.csv')"
   ]
  },
  {
   "attachments": {},
   "cell_type": "markdown",
   "metadata": {},
   "source": [
    "### Read the csvs"
   ]
  },
  {
   "cell_type": "code",
   "execution_count": 8,
   "metadata": {},
   "outputs": [],
   "source": [
    "import pandas as pd\n",
    "df0 = pd.read_csv('batch0.csv') \n",
    "df1 = pd.read_csv('batch1.csv') \n",
    "df2 = pd.read_csv('batch2.csv') \n",
    "df3 = pd.read_csv('batch3.csv') \n",
    "df4 = pd.read_csv('batch4.csv') \n",
    "df5 = pd.read_csv('batch5.csv')\n",
    "\n",
    "# Concatenate the dataframes\n",
    "df_list = [df0, df1, df2, df3, df4, df5]\n",
    "dota_df = pd.concat(df_list)\n",
    "#dota_df.to_csv('dota_df.csv')"
   ]
  },
  {
   "cell_type": "code",
   "execution_count": 13,
   "metadata": {},
   "outputs": [],
   "source": [
    "# Read and subset the chat messages\n",
    "dota2_df = pd.read_csv('dota_df.csv')\n",
    "dota_chats = dota2_df.loc[dota2_df['type'] == \"chat\"]"
   ]
  },
  {
   "attachments": {},
   "cell_type": "markdown",
   "metadata": {},
   "source": [
    "### The pandas dataframe with the retrieved chat messages from the API"
   ]
  },
  {
   "cell_type": "code",
   "execution_count": 14,
   "metadata": {},
   "outputs": [
    {
     "data": {
      "text/html": [
       "<div>\n",
       "<style scoped>\n",
       "    .dataframe tbody tr th:only-of-type {\n",
       "        vertical-align: middle;\n",
       "    }\n",
       "\n",
       "    .dataframe tbody tr th {\n",
       "        vertical-align: top;\n",
       "    }\n",
       "\n",
       "    .dataframe thead th {\n",
       "        text-align: right;\n",
       "    }\n",
       "</style>\n",
       "<table border=\"1\" class=\"dataframe\">\n",
       "  <thead>\n",
       "    <tr style=\"text-align: right;\">\n",
       "      <th></th>\n",
       "      <th>Unnamed: 0.1</th>\n",
       "      <th>Unnamed: 0</th>\n",
       "      <th>time</th>\n",
       "      <th>type</th>\n",
       "      <th>key</th>\n",
       "      <th>slot</th>\n",
       "      <th>player_slot</th>\n",
       "      <th>id</th>\n",
       "      <th>avg_mmr</th>\n",
       "      <th>unit</th>\n",
       "    </tr>\n",
       "  </thead>\n",
       "  <tbody>\n",
       "    <tr>\n",
       "      <th>51</th>\n",
       "      <td>51</td>\n",
       "      <td>51</td>\n",
       "      <td>807</td>\n",
       "      <td>chat</td>\n",
       "      <td>GANEN SU WEBADA</td>\n",
       "      <td>9</td>\n",
       "      <td>132</td>\n",
       "      <td>6629454411</td>\n",
       "      <td>3012</td>\n",
       "      <td>NaN</td>\n",
       "    </tr>\n",
       "    <tr>\n",
       "      <th>52</th>\n",
       "      <td>52</td>\n",
       "      <td>52</td>\n",
       "      <td>820</td>\n",
       "      <td>chat</td>\n",
       "      <td>GRACIAS</td>\n",
       "      <td>9</td>\n",
       "      <td>132</td>\n",
       "      <td>6629454411</td>\n",
       "      <td>3012</td>\n",
       "      <td>NaN</td>\n",
       "    </tr>\n",
       "    <tr>\n",
       "      <th>53</th>\n",
       "      <td>53</td>\n",
       "      <td>53</td>\n",
       "      <td>920</td>\n",
       "      <td>chat</td>\n",
       "      <td>TREMNENDA COMPRA CUENTAS MI AM</td>\n",
       "      <td>7</td>\n",
       "      <td>130</td>\n",
       "      <td>6629454411</td>\n",
       "      <td>3012</td>\n",
       "      <td>NaN</td>\n",
       "    </tr>\n",
       "    <tr>\n",
       "      <th>54</th>\n",
       "      <td>54</td>\n",
       "      <td>54</td>\n",
       "      <td>924</td>\n",
       "      <td>chat</td>\n",
       "      <td>1K DE MRD SIN ITEMS</td>\n",
       "      <td>7</td>\n",
       "      <td>130</td>\n",
       "      <td>6629454411</td>\n",
       "      <td>3012</td>\n",
       "      <td>NaN</td>\n",
       "    </tr>\n",
       "    <tr>\n",
       "      <th>67</th>\n",
       "      <td>67</td>\n",
       "      <td>67</td>\n",
       "      <td>1263</td>\n",
       "      <td>chat</td>\n",
       "      <td>xdd</td>\n",
       "      <td>0</td>\n",
       "      <td>0</td>\n",
       "      <td>6629454411</td>\n",
       "      <td>3012</td>\n",
       "      <td>NaN</td>\n",
       "    </tr>\n",
       "    <tr>\n",
       "      <th>...</th>\n",
       "      <td>...</td>\n",
       "      <td>...</td>\n",
       "      <td>...</td>\n",
       "      <td>...</td>\n",
       "      <td>...</td>\n",
       "      <td>...</td>\n",
       "      <td>...</td>\n",
       "      <td>...</td>\n",
       "      <td>...</td>\n",
       "      <td>...</td>\n",
       "    </tr>\n",
       "    <tr>\n",
       "      <th>27078</th>\n",
       "      <td>311</td>\n",
       "      <td>17</td>\n",
       "      <td>2287</td>\n",
       "      <td>chat</td>\n",
       "      <td>pango aegis?</td>\n",
       "      <td>5</td>\n",
       "      <td>128</td>\n",
       "      <td>6662919204</td>\n",
       "      <td>2082</td>\n",
       "      <td>NaN</td>\n",
       "    </tr>\n",
       "    <tr>\n",
       "      <th>27079</th>\n",
       "      <td>312</td>\n",
       "      <td>18</td>\n",
       "      <td>2287</td>\n",
       "      <td>chat</td>\n",
       "      <td>wtf</td>\n",
       "      <td>5</td>\n",
       "      <td>128</td>\n",
       "      <td>6662919204</td>\n",
       "      <td>2082</td>\n",
       "      <td>NaN</td>\n",
       "    </tr>\n",
       "    <tr>\n",
       "      <th>27085</th>\n",
       "      <td>318</td>\n",
       "      <td>24</td>\n",
       "      <td>2755</td>\n",
       "      <td>chat</td>\n",
       "      <td>report PA please</td>\n",
       "      <td>5</td>\n",
       "      <td>128</td>\n",
       "      <td>6662919204</td>\n",
       "      <td>2082</td>\n",
       "      <td>NaN</td>\n",
       "    </tr>\n",
       "    <tr>\n",
       "      <th>27086</th>\n",
       "      <td>319</td>\n",
       "      <td>25</td>\n",
       "      <td>2775</td>\n",
       "      <td>chat</td>\n",
       "      <td>он не пендос так что нет</td>\n",
       "      <td>4</td>\n",
       "      <td>4</td>\n",
       "      <td>6662919204</td>\n",
       "      <td>2082</td>\n",
       "      <td>NaN</td>\n",
       "    </tr>\n",
       "    <tr>\n",
       "      <th>27087</th>\n",
       "      <td>320</td>\n",
       "      <td>26</td>\n",
       "      <td>3021</td>\n",
       "      <td>chat</td>\n",
       "      <td>ez</td>\n",
       "      <td>0</td>\n",
       "      <td>0</td>\n",
       "      <td>6662919204</td>\n",
       "      <td>2082</td>\n",
       "      <td>NaN</td>\n",
       "    </tr>\n",
       "  </tbody>\n",
       "</table>\n",
       "<p>4720 rows × 10 columns</p>\n",
       "</div>"
      ],
      "text/plain": [
       "       Unnamed: 0.1  Unnamed: 0  time  type                             key  \\\n",
       "51               51          51   807  chat                 GANEN SU WEBADA   \n",
       "52               52          52   820  chat                         GRACIAS   \n",
       "53               53          53   920  chat  TREMNENDA COMPRA CUENTAS MI AM   \n",
       "54               54          54   924  chat             1K DE MRD SIN ITEMS   \n",
       "67               67          67  1263  chat                             xdd   \n",
       "...             ...         ...   ...   ...                             ...   \n",
       "27078           311          17  2287  chat                    pango aegis?   \n",
       "27079           312          18  2287  chat                             wtf   \n",
       "27085           318          24  2755  chat                report PA please   \n",
       "27086           319          25  2775  chat        он не пендос так что нет   \n",
       "27087           320          26  3021  chat                              ez   \n",
       "\n",
       "       slot  player_slot          id  avg_mmr unit  \n",
       "51        9          132  6629454411     3012  NaN  \n",
       "52        9          132  6629454411     3012  NaN  \n",
       "53        7          130  6629454411     3012  NaN  \n",
       "54        7          130  6629454411     3012  NaN  \n",
       "67        0            0  6629454411     3012  NaN  \n",
       "...     ...          ...         ...      ...  ...  \n",
       "27078     5          128  6662919204     2082  NaN  \n",
       "27079     5          128  6662919204     2082  NaN  \n",
       "27085     5          128  6662919204     2082  NaN  \n",
       "27086     4            4  6662919204     2082  NaN  \n",
       "27087     0            0  6662919204     2082  NaN  \n",
       "\n",
       "[4720 rows x 10 columns]"
      ]
     },
     "execution_count": 14,
     "metadata": {},
     "output_type": "execute_result"
    }
   ],
   "source": [
    "dota_chats"
   ]
  },
  {
   "attachments": {},
   "cell_type": "markdown",
   "metadata": {},
   "source": [
    "## Getting more match id:s\n",
    "\n",
    "The data retrieval above resulted in 4720 chat messages. We will now try to increase the amount of gathered data."
   ]
  },
  {
   "attachments": {},
   "cell_type": "markdown",
   "metadata": {},
   "source": [
    "We will now try to collect more data iteratively by calling batches."
   ]
  },
  {
   "cell_type": "code",
   "execution_count": 51,
   "metadata": {},
   "outputs": [],
   "source": [
    "# Visiting https://api.opendota.com/api/publicMatches 100 matches were displayed, where the latest match had id = 6953922109 and the first match had id = 6953951809\n",
    "MAX_LATEST = 6953951809\n",
    "MIN_LATEST = 6953922109\n",
    "\n",
    "# Retrieve difference which we will use to subtract each sample (29700)\n",
    "DIFF = MAX_LATEST-MIN_LATEST\n",
    "MIN_ID = MAX_LATEST\n",
    "\n",
    "# Number of API calls in each match retrieval batch\n",
    "N_API = 60\n",
    "\n",
    "from ratelimit import limits, sleep_and_retry\n",
    "import requests\n",
    "import time\n",
    "\n",
    "ONE_MINUTE = 60 # Max calls per minutes in seconds\n",
    "# Check API limit of 60 calls per minute before making request\n",
    "@sleep_and_retry\n",
    "@limits(calls=60, period=ONE_MINUTE)\n",
    "def call_api(url, params):\n",
    "    response = requests.get(url, params=params)\n",
    "    \n",
    "    if response.status_code != 200:\n",
    "        time.sleep(60)\n",
    "        return None\n",
    "        \n",
    "    else:\n",
    "        return response\n",
    "\n",
    "def get_matches(current_min_id):\n",
    "    matches = [] # list with tuples of match id and avg mmr\n",
    "    for i in range(N_API):  \n",
    "        \n",
    "        url = \"https://api.opendota.com/api/publicMatches\"\n",
    "        params = {'less_than_match_id': current_min_id} # min match id to sample from\n",
    "\n",
    "        # get response, continue if error calling api\n",
    "        response = call_api(url=url, params=params)\n",
    "        if response is None:\n",
    "            continue\n",
    "        \n",
    "        data = response.json()\n",
    "        # Check if a previous sample included the match id, otherwise add it to list\n",
    "        for match in data:\n",
    "            try: \n",
    "                match_id = match['match_id']\n",
    "                avg_mmr = match['avg_mmr']\n",
    "            except TypeError: \n",
    "                pass\n",
    "            \n",
    "            if (match_id, avg_mmr) not in matches:\n",
    "                matches.append((match_id, avg_mmr))\n",
    "\n",
    "        current_min_id = current_min_id - DIFF\n",
    "        \n",
    "    # Some matches with avg_mmr == None are removed\n",
    "    public_matches = [(id, mmr) for id, mmr in matches if mmr is not None]\n",
    "\n",
    "    result = [public_matches, current_min_id]\n",
    "    return result   "
   ]
  },
  {
   "attachments": {},
   "cell_type": "markdown",
   "metadata": {},
   "source": [
    "### Calling batches.\n",
    "We still have to adhere to the limitation of the API with 50000 calls per month, so we can only look into so many matches. This means we stop retrieving match ids when we have more than 498000 match ids gathered."
   ]
  },
  {
   "cell_type": "code",
   "execution_count": 52,
   "metadata": {},
   "outputs": [],
   "source": [
    "batch_size = 100\n",
    "batch_matches = []\n",
    "\n",
    "for i in range(batch_size):\n",
    "    # Retrieve batch of matches and append to list\n",
    "    result = get_matches(MIN_ID)\n",
    "    batch_matches.append(result[0])\n",
    "    # Decrease min id\n",
    "    MIN_ID = result[1]\n",
    "\n",
    "    concatenated_batch = [item for sublist in batch_matches for item in sublist]\n",
    "    cb = list(set(concatenated_batch))\n",
    "\n",
    "    if len(cb) > 49800:\n",
    "        break\n",
    "\n",
    "concatenated_batch = [item for sublist in batch_matches for item in sublist]\n",
    "pub_matches = list(set(concatenated_batch))"
   ]
  },
  {
   "cell_type": "code",
   "execution_count": 57,
   "metadata": {},
   "outputs": [
    {
     "name": "stdout",
     "output_type": "stream",
     "text": [
      "51754\n"
     ]
    }
   ],
   "source": [
    "print(len(pub_matches)) # more than 50k\n",
    "#subset\n",
    "pub_matches_subset = pub_matches[:49800]\n",
    "# Save match ids to a txt file.\n",
    "#with open('public_matches_subset.txt', 'w') as f:\n",
    "#    for line in pub_matches_subset:\n",
    "#        f.write(f\"{line}\\n\")\n"
   ]
  },
  {
   "attachments": {},
   "cell_type": "markdown",
   "metadata": {},
   "source": [
    "### With an increased number of matches we now do the call for each match again\n",
    "Just copy code from when testing earlier"
   ]
  },
  {
   "cell_type": "code",
   "execution_count": 61,
   "metadata": {},
   "outputs": [
    {
     "data": {
      "text/plain": [
       "830"
      ]
     },
     "execution_count": 61,
     "metadata": {},
     "output_type": "execute_result"
    }
   ],
   "source": [
    "sub_batches = list(chunks(pub_matches_subset, 60))\n",
    "len(sub_batches) "
   ]
  },
  {
   "cell_type": "code",
   "execution_count": 62,
   "metadata": {},
   "outputs": [],
   "source": [
    "from ratelimit import limits, sleep_and_retry\n",
    "import requests\n",
    "ONE_MINUTE = 60 # Max calls per minutes in seconds\n",
    "# Check API limit of 60 calls per minute before making request\n",
    "@sleep_and_retry\n",
    "@limits(calls=60, period=ONE_MINUTE)\n",
    "def call_api_match(url):\n",
    "    response = requests.get(url)\n",
    "    if response.status_code != 200:\n",
    "        time.sleep(60)\n",
    "        return None\n",
    "        #raise Exception('API response: {}'.format(response.status_code))\n",
    "    #if response.status_code != 200:\n",
    "    #    raise Exception('API response: {}'.format(response.status_code))\n",
    "    else:\n",
    "        return response\n",
    "\n",
    "## parsed matches\n",
    "import pandas as pd\n",
    "import time\n",
    "\n",
    "# Create an empty DataFrame with column names according to the structure of the modified api call\n",
    "pub_chat_dataframe = pd.DataFrame(columns = ['time', 'type', 'key', 'slot', 'player_slot', 'id', 'avg_mmr'])"
   ]
  },
  {
   "cell_type": "code",
   "execution_count": 66,
   "metadata": {},
   "outputs": [],
   "source": [
    "## Create subbatches\n",
    "pbatch00 = sub_batches[:20]\n",
    "pbatch01 = sub_batches[20:40]\n",
    "pbatch02 = sub_batches[40:60]\n",
    "pbatch03 = sub_batches[60:80]\n",
    "pbatch04 = sub_batches[80:100]\n",
    "\n",
    "pbatch11 = sub_batches[100:120]\n",
    "pbatch12 = sub_batches[120:140]\n",
    "pbatch13 = sub_batches[140:160]\n",
    "pbatch14 = sub_batches[160:180]\n",
    "pbatch15 = sub_batches[180:200]\n",
    "\n",
    "pbatch21 = sub_batches[200:220]\n",
    "pbatch22 = sub_batches[220:240]\n",
    "pbatch23 = sub_batches[240:260]\n",
    "pbatch24 = sub_batches[260:280]\n",
    "pbatch25 = sub_batches[280:300]\n",
    "\n",
    "pbatch31 = sub_batches[300:320]\n",
    "pbatch32 = sub_batches[320:340]\n",
    "pbatch33 = sub_batches[340:360]\n",
    "pbatch34 = sub_batches[360:380]\n",
    "pbatch35 = sub_batches[380:400]\n",
    "\n",
    "pbatch41 = sub_batches[400:420]\n",
    "pbatch42 = sub_batches[420:440]\n",
    "pbatch43 = sub_batches[440:460]\n",
    "pbatch44 = sub_batches[460:480]\n",
    "pbatch45 = sub_batches[480:500]\n",
    "\n",
    "pbatch51 = sub_batches[500:520]\n",
    "pbatch52 = sub_batches[520:540]\n",
    "pbatch53 = sub_batches[540:560]\n",
    "pbatch54 = sub_batches[560:580]\n",
    "pbatch55 = sub_batches[580:600]\n",
    "\n",
    "pbatch61 = sub_batches[600:620]\n",
    "pbatch62 = sub_batches[620:640]\n",
    "pbatch63 = sub_batches[640:660]\n",
    "pbatch64 = sub_batches[660:680]\n",
    "pbatch65 = sub_batches[680:700]\n",
    "\n",
    "pbatch71 = sub_batches[700:720]\n",
    "pbatch72 = sub_batches[720:740]\n",
    "pbatch73 = sub_batches[740:760]\n",
    "pbatch74 = sub_batches[760:780]\n",
    "pbatch75 = sub_batches[780:800]\n",
    "\n",
    "pbatch81 = sub_batches[800:820]\n",
    "pbatch82 = sub_batches[820:]"
   ]
  },
  {
   "attachments": {},
   "cell_type": "markdown",
   "metadata": {},
   "source": [
    "### Call sub batches again"
   ]
  },
  {
   "attachments": {},
   "cell_type": "markdown",
   "metadata": {},
   "source": [
    "#### 0"
   ]
  },
  {
   "cell_type": "code",
   "execution_count": null,
   "metadata": {},
   "outputs": [],
   "source": [
    "df_pbatch00 = call_subbatch(pbatch00)\n",
    "#df_pbatch00.to_csv('data/pbatch00.csv')"
   ]
  },
  {
   "cell_type": "code",
   "execution_count": null,
   "metadata": {},
   "outputs": [],
   "source": [
    "df_pbatch01 = call_subbatch(pbatch01)\n",
    "#df_pbatch01.to_csv('data/pbatch01.csv')"
   ]
  },
  {
   "cell_type": "code",
   "execution_count": null,
   "metadata": {},
   "outputs": [],
   "source": [
    "df_pbatch02 = call_subbatch(pbatch02)\n",
    "#df_pbatch02.to_csv('data/pbatch02.csv')"
   ]
  },
  {
   "cell_type": "code",
   "execution_count": null,
   "metadata": {},
   "outputs": [],
   "source": [
    "df_pbatch03 = call_subbatch(pbatch03)\n",
    "#df_pbatch03.to_csv('data/pbatch03.csv')"
   ]
  },
  {
   "cell_type": "code",
   "execution_count": null,
   "metadata": {},
   "outputs": [],
   "source": [
    "df_pbatch04 = call_subbatch(pbatch04)\n",
    "#df_pbatch04.to_csv('data/pbatch04.csv')"
   ]
  },
  {
   "attachments": {},
   "cell_type": "markdown",
   "metadata": {},
   "source": [
    "#### 1"
   ]
  },
  {
   "cell_type": "code",
   "execution_count": 80,
   "metadata": {},
   "outputs": [
    {
     "name": "stdout",
     "output_type": "stream",
     "text": [
      "Batch 0 finished with status: success \n",
      "Batch 1 finished with status: success \n",
      "Batch 2 finished with status: success \n",
      "Batch 3 finished with status: success \n",
      "Batch 4 finished with status: success \n",
      "Batch 5 finished with status: success \n",
      "Batch 6 finished with status: success \n",
      "Batch 7 finished with status: success \n",
      "Batch 8 finished with status: success \n",
      "Batch 9 finished with status: success \n",
      "Batch 10 finished with status: success \n",
      "Batch 11 finished with status: success \n",
      "Batch 12 finished with status: success \n",
      "Batch 13 finished with status: success \n",
      "Batch 14 finished with status: success \n",
      "Batch 15 finished with status: success \n",
      "Batch 16 finished with status: success \n",
      "Batch 17 finished with status: success \n",
      "Batch 18 finished with status: success \n",
      "Batch 19 finished with status: success \n"
     ]
    }
   ],
   "source": [
    "df_pbatch11 = call_subbatch(pbatch11)\n",
    "df_pbatch11.to_csv('data/pbatch11.csv')"
   ]
  },
  {
   "cell_type": "code",
   "execution_count": 81,
   "metadata": {},
   "outputs": [
    {
     "name": "stdout",
     "output_type": "stream",
     "text": [
      "Batch 0 finished with status: success \n",
      "Batch 1 finished with status: success \n",
      "Batch 2 finished with status: success \n",
      "Batch 3 finished with status: success \n",
      "Batch 4 finished with status: success \n",
      "Batch 5 finished with status: success \n",
      "Batch 6 finished with status: success \n",
      "Batch 7 finished with status: success \n",
      "Batch 8 finished with status: success \n",
      "Batch 9 finished with status: success \n",
      "Batch 10 finished with status: success \n",
      "Batch 11 finished with status: success \n",
      "Batch 12 finished with status: success \n",
      "Batch 13 finished with status: success \n",
      "Batch 14 finished with status: success \n",
      "Batch 15 finished with status: success \n",
      "Batch 16 finished with status: success \n",
      "Batch 17 finished with status: success \n",
      "Batch 18 finished with status: success \n",
      "Batch 19 finished with status: success \n"
     ]
    }
   ],
   "source": [
    "df_pbatch12 = call_subbatch(pbatch12)\n",
    "df_pbatch12.to_csv('data/pbatch12.csv')"
   ]
  },
  {
   "cell_type": "code",
   "execution_count": 82,
   "metadata": {},
   "outputs": [
    {
     "name": "stdout",
     "output_type": "stream",
     "text": [
      "Batch 0 finished with status: success \n",
      "Batch 1 finished with status: success \n",
      "Batch 2 finished with status: success \n",
      "Batch 3 finished with status: success \n",
      "Batch 4 finished with status: success \n",
      "Batch 5 finished with status: success \n",
      "Batch 6 finished with status: success \n",
      "Batch 7 finished with status: success \n",
      "Batch 8 finished with status: success \n",
      "Batch 9 finished with status: success \n",
      "Batch 10 finished with status: success \n",
      "Batch 11 finished with status: success \n",
      "Batch 12 finished with status: success \n",
      "Batch 13 finished with status: success \n",
      "Batch 14 finished with status: success \n",
      "Batch 15 finished with status: success \n",
      "Batch 16 finished with status: success \n",
      "Batch 17 finished with status: success \n",
      "Batch 18 finished with status: success \n",
      "Batch 19 finished with status: success \n"
     ]
    }
   ],
   "source": [
    "df_pbatch13 = call_subbatch(pbatch13)\n",
    "df_pbatch13.to_csv('data/pbatch13.csv')"
   ]
  },
  {
   "cell_type": "code",
   "execution_count": 83,
   "metadata": {},
   "outputs": [
    {
     "name": "stdout",
     "output_type": "stream",
     "text": [
      "Batch 0 finished with status: success \n",
      "Batch 1 finished with status: success \n",
      "Batch 2 finished with status: success \n",
      "Batch 3 finished with status: success \n",
      "Batch 4 finished with status: success \n",
      "Batch 5 finished with status: success \n",
      "Batch 6 finished with status: success \n",
      "Batch 7 finished with status: success \n",
      "Batch 8 finished with status: success \n",
      "Batch 9 finished with status: success \n",
      "Batch 10 finished with status: success \n",
      "Batch 11 finished with status: success \n",
      "Batch 12 finished with status: success \n",
      "Batch 13 finished with status: success \n",
      "Batch 14 finished with status: success \n",
      "Batch 15 finished with status: success \n",
      "Batch 16 finished with status: success \n",
      "Batch 17 finished with status: success \n",
      "Batch 18 finished with status: success \n",
      "Batch 19 finished with status: success \n"
     ]
    }
   ],
   "source": [
    "df_pbatch14 = call_subbatch(pbatch14)\n",
    "df_pbatch14.to_csv('data/pbatch14.csv')"
   ]
  },
  {
   "cell_type": "code",
   "execution_count": 84,
   "metadata": {},
   "outputs": [
    {
     "name": "stdout",
     "output_type": "stream",
     "text": [
      "Batch 0 finished with status: success \n",
      "Batch 1 finished with status: success \n",
      "Batch 2 finished with status: success \n",
      "Batch 3 finished with status: success \n",
      "Batch 4 finished with status: success \n",
      "Batch 5 finished with status: success \n",
      "Batch 6 finished with status: success \n",
      "Batch 7 finished with status: success \n",
      "Batch 8 finished with status: success \n",
      "Batch 9 finished with status: success \n",
      "Batch 10 finished with status: success \n",
      "Batch 11 finished with status: success \n",
      "Batch 12 finished with status: success \n",
      "Batch 13 finished with status: success \n",
      "Batch 14 finished with status: success \n",
      "Batch 15 finished with status: success \n",
      "Batch 16 finished with status: success \n",
      "Batch 17 finished with status: success \n",
      "Batch 18 finished with status: success \n",
      "Batch 19 finished with status: success \n"
     ]
    }
   ],
   "source": [
    "df_pbatch15 = call_subbatch(pbatch15)\n",
    "df_pbatch15.to_csv('data/pbatch15.csv')"
   ]
  },
  {
   "attachments": {},
   "cell_type": "markdown",
   "metadata": {},
   "source": [
    "#### 2"
   ]
  },
  {
   "cell_type": "code",
   "execution_count": 85,
   "metadata": {},
   "outputs": [
    {
     "name": "stdout",
     "output_type": "stream",
     "text": [
      "Batch 0 finished with status: success \n",
      "Batch 1 finished with status: success \n",
      "Batch 2 finished with status: success \n",
      "Batch 3 finished with status: success \n",
      "Batch 4 finished with status: success \n",
      "Batch 5 finished with status: success \n",
      "Batch 6 finished with status: success \n",
      "Batch 7 finished with status: success \n",
      "Batch 8 finished with status: success \n",
      "Batch 9 finished with status: success \n",
      "Batch 10 finished with status: success \n",
      "Batch 11 finished with status: success \n",
      "Batch 12 finished with status: success \n",
      "Batch 13 finished with status: success \n",
      "Batch 14 finished with status: success \n",
      "Batch 15 finished with status: success \n",
      "Batch 16 finished with status: success \n",
      "Batch 17 finished with status: success \n",
      "Batch 18 finished with status: success \n",
      "Batch 19 finished with status: success \n"
     ]
    }
   ],
   "source": [
    "df_pbatch21 = call_subbatch(pbatch21)\n",
    "df_pbatch21.to_csv('data/pbatch21.csv')"
   ]
  },
  {
   "cell_type": "code",
   "execution_count": 86,
   "metadata": {},
   "outputs": [
    {
     "name": "stdout",
     "output_type": "stream",
     "text": [
      "Batch 0 finished with status: success \n",
      "Batch 1 finished with status: success \n",
      "Batch 2 finished with status: success \n",
      "Batch 3 finished with status: success \n",
      "Batch 4 finished with status: success \n",
      "Batch 5 finished with status: success \n",
      "Batch 6 finished with status: success \n",
      "Batch 7 finished with status: success \n",
      "Batch 8 finished with status: success \n",
      "Batch 9 finished with status: success \n",
      "Batch 10 finished with status: success \n",
      "Batch 11 finished with status: success \n",
      "Batch 12 finished with status: success \n",
      "Batch 13 finished with status: success \n",
      "Batch 14 finished with status: success \n",
      "Batch 15 finished with status: success \n",
      "Batch 16 finished with status: success \n",
      "Batch 17 finished with status: success \n",
      "Batch 18 finished with status: success \n",
      "Batch 19 finished with status: success \n"
     ]
    }
   ],
   "source": [
    "df_pbatch22 = call_subbatch(pbatch22)\n",
    "df_pbatch22.to_csv('data/pbatch22.csv')"
   ]
  },
  {
   "cell_type": "code",
   "execution_count": 87,
   "metadata": {},
   "outputs": [
    {
     "name": "stdout",
     "output_type": "stream",
     "text": [
      "Batch 0 finished with status: success \n",
      "Batch 1 finished with status: success \n",
      "Batch 2 finished with status: success \n",
      "Batch 3 finished with status: success \n",
      "Batch 4 finished with status: success \n",
      "Batch 5 finished with status: success \n",
      "Batch 6 finished with status: success \n",
      "Batch 7 finished with status: success \n",
      "Batch 8 finished with status: success \n",
      "Batch 9 finished with status: success \n",
      "Batch 10 finished with status: success \n",
      "Batch 11 finished with status: success \n",
      "Batch 12 finished with status: success \n",
      "Batch 13 finished with status: success \n",
      "Batch 14 finished with status: success \n",
      "Batch 15 finished with status: success \n",
      "Batch 16 finished with status: success \n",
      "Batch 17 finished with status: success \n",
      "Batch 18 finished with status: success \n",
      "Batch 19 finished with status: success \n"
     ]
    }
   ],
   "source": [
    "df_pbatch23 = call_subbatch(pbatch23)\n",
    "df_pbatch23.to_csv('data/pbatch23.csv')"
   ]
  },
  {
   "cell_type": "code",
   "execution_count": 88,
   "metadata": {},
   "outputs": [
    {
     "name": "stdout",
     "output_type": "stream",
     "text": [
      "Batch 0 finished with status: success \n",
      "Batch 1 finished with status: success \n",
      "Batch 2 finished with status: success \n",
      "Batch 3 finished with status: success \n",
      "Batch 4 finished with status: success \n",
      "Batch 5 finished with status: success \n",
      "Batch 6 finished with status: success \n",
      "Batch 7 finished with status: success \n",
      "Batch 8 finished with status: success \n",
      "Batch 9 finished with status: success \n",
      "Batch 10 finished with status: success \n",
      "Batch 11 finished with status: success \n",
      "Batch 12 finished with status: success \n",
      "Batch 13 finished with status: success \n",
      "Batch 14 finished with status: success \n",
      "Batch 15 finished with status: success \n",
      "Batch 16 finished with status: success \n",
      "Batch 17 finished with status: success \n",
      "Batch 18 finished with status: success \n",
      "Batch 19 finished with status: success \n"
     ]
    }
   ],
   "source": [
    "df_pbatch24 = call_subbatch(pbatch24)\n",
    "df_pbatch24.to_csv('data/pbatch24.csv')"
   ]
  },
  {
   "cell_type": "code",
   "execution_count": 89,
   "metadata": {},
   "outputs": [
    {
     "name": "stdout",
     "output_type": "stream",
     "text": [
      "Batch 0 finished with status: success \n",
      "Batch 1 finished with status: success \n",
      "Batch 2 finished with status: success \n",
      "Batch 3 finished with status: success \n",
      "Batch 4 finished with status: success \n",
      "Batch 5 finished with status: success \n",
      "Batch 6 finished with status: success \n",
      "Batch 7 finished with status: success \n",
      "Batch 8 finished with status: success \n",
      "Batch 9 finished with status: success \n",
      "Batch 10 finished with status: success \n",
      "Batch 11 finished with status: success \n",
      "Batch 12 finished with status: success \n",
      "Batch 13 finished with status: success \n",
      "Batch 14 finished with status: success \n",
      "Batch 15 finished with status: success \n",
      "Batch 16 finished with status: success \n",
      "Batch 17 finished with status: success \n",
      "Batch 18 finished with status: success \n",
      "Batch 19 finished with status: success \n"
     ]
    }
   ],
   "source": [
    "df_pbatch25 = call_subbatch(pbatch25)\n",
    "df_pbatch25.to_csv('data/pbatch25.csv')"
   ]
  },
  {
   "attachments": {},
   "cell_type": "markdown",
   "metadata": {},
   "source": [
    "#### 3"
   ]
  },
  {
   "cell_type": "code",
   "execution_count": 90,
   "metadata": {},
   "outputs": [
    {
     "name": "stdout",
     "output_type": "stream",
     "text": [
      "Batch 0 finished with status: success \n",
      "Batch 1 finished with status: success \n",
      "Batch 2 finished with status: success \n",
      "Batch 3 finished with status: success \n",
      "Batch 4 finished with status: success \n",
      "Batch 5 finished with status: success \n",
      "Batch 6 finished with status: success \n",
      "Batch 7 finished with status: success \n",
      "Batch 8 finished with status: success \n",
      "Batch 9 finished with status: success \n",
      "Batch 10 finished with status: success \n",
      "Batch 11 finished with status: success \n",
      "Batch 12 finished with status: success \n",
      "Batch 13 finished with status: success \n",
      "Batch 14 finished with status: success \n",
      "Batch 15 finished with status: success \n",
      "Batch 16 finished with status: success \n",
      "Batch 17 finished with status: success \n",
      "Batch 18 finished with status: success \n",
      "Batch 19 finished with status: success \n"
     ]
    }
   ],
   "source": [
    "df_pbatch31 = call_subbatch(pbatch31)\n",
    "df_pbatch31.to_csv('data/pbatch31.csv')"
   ]
  },
  {
   "cell_type": "code",
   "execution_count": 91,
   "metadata": {},
   "outputs": [
    {
     "name": "stdout",
     "output_type": "stream",
     "text": [
      "Batch 0 finished with status: success \n",
      "Batch 1 finished with status: success \n",
      "Batch 2 finished with status: success \n",
      "Batch 3 finished with status: success \n",
      "Batch 4 finished with status: success \n",
      "Batch 5 finished with status: success \n",
      "Batch 6 finished with status: success \n",
      "Batch 7 finished with status: success \n",
      "Batch 8 finished with status: success \n",
      "Batch 9 finished with status: success \n",
      "Batch 10 finished with status: success \n",
      "Batch 11 finished with status: success \n",
      "Batch 12 finished with status: success \n",
      "Batch 13 finished with status: success \n",
      "Batch 14 finished with status: success \n",
      "Batch 15 finished with status: success \n",
      "Batch 16 finished with status: success \n",
      "Batch 17 finished with status: success \n",
      "Batch 18 finished with status: success \n",
      "Batch 19 finished with status: success \n"
     ]
    }
   ],
   "source": [
    "df_pbatch32 = call_subbatch(pbatch32)\n",
    "df_pbatch32.to_csv('data/pbatch32.csv')"
   ]
  },
  {
   "cell_type": "code",
   "execution_count": 92,
   "metadata": {},
   "outputs": [
    {
     "name": "stdout",
     "output_type": "stream",
     "text": [
      "Batch 0 finished with status: success \n",
      "Batch 1 finished with status: success \n",
      "Batch 2 finished with status: success \n",
      "Batch 3 finished with status: success \n",
      "Batch 4 finished with status: success \n",
      "Batch 5 finished with status: success \n",
      "Batch 6 finished with status: success \n",
      "Batch 7 finished with status: success \n",
      "Batch 8 finished with status: success \n",
      "Batch 9 finished with status: success \n",
      "Batch 10 finished with status: success \n",
      "Batch 11 finished with status: success \n",
      "Batch 12 finished with status: success \n",
      "Batch 13 finished with status: success \n",
      "Batch 14 finished with status: success \n",
      "Batch 15 finished with status: success \n",
      "Batch 16 finished with status: success \n",
      "Batch 17 finished with status: success \n",
      "Batch 18 finished with status: success \n",
      "Batch 19 finished with status: success \n"
     ]
    }
   ],
   "source": [
    "df_pbatch33 = call_subbatch(pbatch33)\n",
    "df_pbatch33.to_csv('data/pbatch33.csv')"
   ]
  },
  {
   "cell_type": "code",
   "execution_count": 93,
   "metadata": {},
   "outputs": [
    {
     "name": "stdout",
     "output_type": "stream",
     "text": [
      "Batch 0 finished with status: success \n",
      "Batch 1 finished with status: success \n",
      "Batch 2 finished with status: success \n",
      "Batch 3 finished with status: success \n",
      "Batch 4 finished with status: success \n",
      "Batch 5 finished with status: success \n",
      "Batch 6 finished with status: success \n",
      "Batch 7 finished with status: success \n",
      "Batch 8 finished with status: success \n",
      "Batch 9 finished with status: success \n",
      "Batch 10 finished with status: success \n",
      "Batch 11 finished with status: success \n",
      "Batch 12 finished with status: success \n",
      "Batch 13 finished with status: success \n",
      "Batch 14 finished with status: success \n",
      "Batch 15 finished with status: fail \n",
      "Batch 16 finished with status: success \n",
      "Batch 17 finished with status: success \n",
      "Batch 18 finished with status: success \n",
      "Batch 19 finished with status: success \n"
     ]
    }
   ],
   "source": [
    "df_pbatch34 = call_subbatch(pbatch34)\n",
    "df_pbatch34.to_csv('data/pbatch34.csv')"
   ]
  },
  {
   "cell_type": "code",
   "execution_count": 94,
   "metadata": {},
   "outputs": [
    {
     "name": "stdout",
     "output_type": "stream",
     "text": [
      "Batch 0 finished with status: success \n",
      "Batch 1 finished with status: success \n",
      "Batch 2 finished with status: success \n",
      "Batch 3 finished with status: success \n",
      "Batch 4 finished with status: success \n",
      "Batch 5 finished with status: success \n",
      "Batch 6 finished with status: success \n",
      "Batch 7 finished with status: success \n",
      "Batch 8 finished with status: success \n",
      "Batch 9 finished with status: success \n",
      "Batch 10 finished with status: success \n",
      "Batch 11 finished with status: success \n",
      "Batch 12 finished with status: success \n",
      "Batch 13 finished with status: success \n",
      "Batch 14 finished with status: success \n",
      "Batch 15 finished with status: success \n",
      "Batch 16 finished with status: success \n",
      "Batch 17 finished with status: success \n",
      "Batch 18 finished with status: success \n",
      "Batch 19 finished with status: success \n"
     ]
    }
   ],
   "source": [
    "df_pbatch35 = call_subbatch(pbatch35)\n",
    "df_pbatch35.to_csv('data/pbatch35.csv')"
   ]
  },
  {
   "attachments": {},
   "cell_type": "markdown",
   "metadata": {},
   "source": [
    "#### 4"
   ]
  },
  {
   "cell_type": "code",
   "execution_count": 95,
   "metadata": {},
   "outputs": [
    {
     "name": "stdout",
     "output_type": "stream",
     "text": [
      "Batch 0 finished with status: success \n",
      "Batch 1 finished with status: success \n",
      "Batch 2 finished with status: success \n",
      "Batch 3 finished with status: success \n",
      "Batch 4 finished with status: success \n",
      "Batch 5 finished with status: success \n",
      "Batch 6 finished with status: success \n",
      "Batch 7 finished with status: success \n",
      "Batch 8 finished with status: success \n",
      "Batch 9 finished with status: success \n",
      "Batch 10 finished with status: success \n",
      "Batch 11 finished with status: success \n",
      "Batch 12 finished with status: success \n",
      "Batch 13 finished with status: success \n",
      "Batch 14 finished with status: success \n",
      "Batch 15 finished with status: success \n",
      "Batch 16 finished with status: success \n",
      "Batch 17 finished with status: success \n",
      "Batch 18 finished with status: fail \n",
      "Batch 19 finished with status: success \n"
     ]
    }
   ],
   "source": [
    "df_pbatch41 = call_subbatch(pbatch41)\n",
    "df_pbatch41.to_csv('data/pbatch41.csv')"
   ]
  },
  {
   "cell_type": "code",
   "execution_count": 96,
   "metadata": {},
   "outputs": [
    {
     "name": "stdout",
     "output_type": "stream",
     "text": [
      "Batch 0 finished with status: success \n",
      "Batch 1 finished with status: success \n",
      "Batch 2 finished with status: success \n",
      "Batch 3 finished with status: success \n",
      "Batch 4 finished with status: success \n",
      "Batch 5 finished with status: success \n",
      "Batch 6 finished with status: success \n",
      "Batch 7 finished with status: success \n",
      "Batch 8 finished with status: success \n",
      "Batch 9 finished with status: success \n",
      "Batch 10 finished with status: success \n",
      "Batch 11 finished with status: success \n",
      "Batch 12 finished with status: success \n",
      "Batch 13 finished with status: success \n",
      "Batch 14 finished with status: success \n",
      "Batch 15 finished with status: success \n",
      "Batch 16 finished with status: success \n",
      "Batch 17 finished with status: success \n",
      "Batch 18 finished with status: success \n",
      "Batch 19 finished with status: success \n"
     ]
    }
   ],
   "source": [
    "df_pbatch42 = call_subbatch(pbatch42)\n",
    "df_pbatch42.to_csv('data/pbatch42.csv')"
   ]
  },
  {
   "cell_type": "code",
   "execution_count": 97,
   "metadata": {},
   "outputs": [
    {
     "name": "stdout",
     "output_type": "stream",
     "text": [
      "Batch 0 finished with status: success \n",
      "Batch 1 finished with status: success \n",
      "Batch 2 finished with status: success \n",
      "Batch 3 finished with status: success \n",
      "Batch 4 finished with status: success \n",
      "Batch 5 finished with status: success \n",
      "Batch 6 finished with status: success \n",
      "Batch 7 finished with status: success \n",
      "Batch 8 finished with status: success \n",
      "Batch 9 finished with status: success \n",
      "Batch 10 finished with status: success \n",
      "Batch 11 finished with status: success \n",
      "Batch 12 finished with status: success \n",
      "Batch 13 finished with status: success \n",
      "Batch 14 finished with status: success \n",
      "Batch 15 finished with status: success \n",
      "Batch 16 finished with status: success \n",
      "Batch 17 finished with status: success \n",
      "Batch 18 finished with status: success \n",
      "Batch 19 finished with status: success \n"
     ]
    }
   ],
   "source": [
    "df_pbatch43 = call_subbatch(pbatch43)\n",
    "df_pbatch43.to_csv('data/pbatch43.csv')"
   ]
  },
  {
   "cell_type": "code",
   "execution_count": 98,
   "metadata": {},
   "outputs": [
    {
     "name": "stdout",
     "output_type": "stream",
     "text": [
      "Batch 0 finished with status: success \n",
      "Batch 1 finished with status: success \n",
      "Batch 2 finished with status: success \n",
      "Batch 3 finished with status: success \n",
      "Batch 4 finished with status: success \n",
      "Batch 5 finished with status: success \n",
      "Batch 6 finished with status: success \n",
      "Batch 7 finished with status: success \n",
      "Batch 8 finished with status: success \n",
      "Batch 9 finished with status: success \n",
      "Batch 10 finished with status: success \n",
      "Batch 11 finished with status: success \n",
      "Batch 12 finished with status: success \n",
      "Batch 13 finished with status: success \n",
      "Batch 14 finished with status: success \n",
      "Batch 15 finished with status: success \n",
      "Batch 16 finished with status: success \n",
      "Batch 17 finished with status: success \n",
      "Batch 18 finished with status: success \n",
      "Batch 19 finished with status: success \n"
     ]
    }
   ],
   "source": [
    "df_pbatch44 = call_subbatch(pbatch44)\n",
    "df_pbatch44.to_csv('data/pbatch44.csv')"
   ]
  },
  {
   "cell_type": "code",
   "execution_count": 99,
   "metadata": {},
   "outputs": [
    {
     "name": "stdout",
     "output_type": "stream",
     "text": [
      "Batch 0 finished with status: success \n",
      "Batch 1 finished with status: success \n",
      "Batch 2 finished with status: success \n",
      "Batch 3 finished with status: success \n",
      "Batch 4 finished with status: success \n",
      "Batch 5 finished with status: success \n",
      "Batch 6 finished with status: success \n",
      "Batch 7 finished with status: success \n",
      "Batch 8 finished with status: success \n",
      "Batch 9 finished with status: success \n",
      "Batch 10 finished with status: success \n",
      "Batch 11 finished with status: success \n",
      "Batch 12 finished with status: success \n",
      "Batch 13 finished with status: success \n",
      "Batch 14 finished with status: success \n",
      "Batch 15 finished with status: success \n",
      "Batch 16 finished with status: success \n",
      "Batch 17 finished with status: success \n",
      "Batch 18 finished with status: success \n",
      "Batch 19 finished with status: success \n"
     ]
    }
   ],
   "source": [
    "df_pbatch45 = call_subbatch(pbatch45)\n",
    "df_pbatch45.to_csv('data/pbatch45.csv')"
   ]
  },
  {
   "attachments": {},
   "cell_type": "markdown",
   "metadata": {},
   "source": [
    "#### 5"
   ]
  },
  {
   "cell_type": "code",
   "execution_count": 100,
   "metadata": {},
   "outputs": [
    {
     "name": "stdout",
     "output_type": "stream",
     "text": [
      "Batch 0 finished with status: success \n",
      "Batch 1 finished with status: success \n",
      "Batch 2 finished with status: success \n",
      "Batch 3 finished with status: success \n",
      "Batch 4 finished with status: success \n",
      "Batch 5 finished with status: success \n",
      "Batch 6 finished with status: success \n",
      "Batch 7 finished with status: success \n",
      "Batch 8 finished with status: success \n",
      "Batch 9 finished with status: success \n",
      "Batch 10 finished with status: success \n",
      "Batch 11 finished with status: success \n",
      "Batch 12 finished with status: success \n",
      "Batch 13 finished with status: success \n",
      "Batch 14 finished with status: success \n",
      "Batch 15 finished with status: success \n",
      "Batch 16 finished with status: success \n",
      "Batch 17 finished with status: success \n",
      "Batch 18 finished with status: success \n",
      "Batch 19 finished with status: success \n"
     ]
    }
   ],
   "source": [
    "df_pbatch51 = call_subbatch(pbatch51)\n",
    "df_pbatch51.to_csv('data/pbatch51.csv')"
   ]
  },
  {
   "cell_type": "code",
   "execution_count": 101,
   "metadata": {},
   "outputs": [
    {
     "name": "stdout",
     "output_type": "stream",
     "text": [
      "Batch 0 finished with status: success \n",
      "Batch 1 finished with status: success \n",
      "Batch 2 finished with status: success \n",
      "Batch 3 finished with status: success \n",
      "Batch 4 finished with status: success \n",
      "Batch 5 finished with status: success \n",
      "Batch 6 finished with status: success \n",
      "Batch 7 finished with status: success \n",
      "Batch 8 finished with status: success \n",
      "Batch 9 finished with status: success \n",
      "Batch 10 finished with status: success \n",
      "Batch 11 finished with status: success \n",
      "Batch 12 finished with status: success \n",
      "Batch 13 finished with status: success \n",
      "Batch 14 finished with status: success \n",
      "Batch 15 finished with status: success \n",
      "Batch 16 finished with status: success \n",
      "Batch 17 finished with status: success \n",
      "Batch 18 finished with status: success \n",
      "Batch 19 finished with status: success \n"
     ]
    }
   ],
   "source": [
    "df_pbatch52 = call_subbatch(pbatch52)\n",
    "df_pbatch52.to_csv('data/pbatch52.csv')"
   ]
  },
  {
   "cell_type": "code",
   "execution_count": 102,
   "metadata": {},
   "outputs": [
    {
     "name": "stdout",
     "output_type": "stream",
     "text": [
      "Batch 0 finished with status: success \n",
      "Batch 1 finished with status: success \n",
      "Batch 2 finished with status: success \n",
      "Batch 3 finished with status: success \n",
      "Batch 4 finished with status: success \n",
      "Batch 5 finished with status: success \n",
      "Batch 6 finished with status: success \n",
      "Batch 7 finished with status: success \n",
      "Batch 8 finished with status: success \n",
      "Batch 9 finished with status: success \n",
      "Batch 10 finished with status: success \n",
      "Batch 11 finished with status: success \n",
      "Batch 12 finished with status: success \n",
      "Batch 13 finished with status: success \n",
      "Batch 14 finished with status: success \n",
      "Batch 15 finished with status: success \n",
      "Batch 16 finished with status: success \n",
      "Batch 17 finished with status: success \n",
      "Batch 18 finished with status: success \n",
      "Batch 19 finished with status: success \n"
     ]
    }
   ],
   "source": [
    "df_pbatch53 = call_subbatch(pbatch53)\n",
    "df_pbatch53.to_csv('data/pbatch53.csv')"
   ]
  },
  {
   "cell_type": "code",
   "execution_count": 103,
   "metadata": {},
   "outputs": [
    {
     "name": "stdout",
     "output_type": "stream",
     "text": [
      "Batch 0 finished with status: success \n",
      "Batch 1 finished with status: success \n",
      "Batch 2 finished with status: success \n",
      "Batch 3 finished with status: success \n",
      "Batch 4 finished with status: success \n",
      "Batch 5 finished with status: success \n",
      "Batch 6 finished with status: success \n",
      "Batch 7 finished with status: success \n",
      "Batch 8 finished with status: success \n",
      "Batch 9 finished with status: success \n",
      "Batch 10 finished with status: success \n",
      "Batch 11 finished with status: success \n",
      "Batch 12 finished with status: success \n",
      "Batch 13 finished with status: success \n",
      "Batch 14 finished with status: success \n",
      "Batch 15 finished with status: success \n",
      "Batch 16 finished with status: success \n",
      "Batch 17 finished with status: success \n",
      "Batch 18 finished with status: success \n",
      "Batch 19 finished with status: success \n"
     ]
    }
   ],
   "source": [
    "df_pbatch54 = call_subbatch(pbatch54)\n",
    "df_pbatch54.to_csv('data/pbatch54.csv')"
   ]
  },
  {
   "cell_type": "code",
   "execution_count": 104,
   "metadata": {},
   "outputs": [
    {
     "name": "stdout",
     "output_type": "stream",
     "text": [
      "Batch 0 finished with status: success \n",
      "Batch 1 finished with status: success \n",
      "Batch 2 finished with status: success \n",
      "Batch 3 finished with status: success \n",
      "Batch 4 finished with status: success \n",
      "Batch 5 finished with status: success \n",
      "Batch 6 finished with status: success \n",
      "Batch 7 finished with status: success \n",
      "Batch 8 finished with status: success \n",
      "Batch 9 finished with status: success \n",
      "Batch 10 finished with status: success \n",
      "Batch 11 finished with status: success \n",
      "Batch 12 finished with status: success \n",
      "Batch 13 finished with status: success \n",
      "Batch 14 finished with status: success \n",
      "Batch 15 finished with status: success \n",
      "Batch 16 finished with status: success \n",
      "Batch 17 finished with status: success \n",
      "Batch 18 finished with status: success \n",
      "Batch 19 finished with status: success \n"
     ]
    }
   ],
   "source": [
    "df_pbatch55 = call_subbatch(pbatch55)\n",
    "df_pbatch55.to_csv('data/pbatch55.csv')"
   ]
  },
  {
   "attachments": {},
   "cell_type": "markdown",
   "metadata": {},
   "source": [
    "#### 6"
   ]
  },
  {
   "cell_type": "code",
   "execution_count": 105,
   "metadata": {},
   "outputs": [
    {
     "name": "stdout",
     "output_type": "stream",
     "text": [
      "Batch 0 finished with status: success \n",
      "Batch 1 finished with status: success \n",
      "Batch 2 finished with status: success \n",
      "Batch 3 finished with status: success \n",
      "Batch 4 finished with status: success \n",
      "Batch 5 finished with status: success \n",
      "Batch 6 finished with status: success \n",
      "Batch 7 finished with status: success \n",
      "Batch 8 finished with status: success \n",
      "Batch 9 finished with status: success \n",
      "Batch 10 finished with status: success \n",
      "Batch 11 finished with status: success \n",
      "Batch 12 finished with status: success \n",
      "Batch 13 finished with status: success \n",
      "Batch 14 finished with status: success \n",
      "Batch 15 finished with status: success \n",
      "Batch 16 finished with status: success \n",
      "Batch 17 finished with status: success \n",
      "Batch 18 finished with status: success \n",
      "Batch 19 finished with status: success \n"
     ]
    }
   ],
   "source": [
    "df_pbatch61 = call_subbatch(pbatch61)\n",
    "df_pbatch61.to_csv('data/pbatch61.csv')"
   ]
  },
  {
   "cell_type": "code",
   "execution_count": 106,
   "metadata": {},
   "outputs": [
    {
     "name": "stdout",
     "output_type": "stream",
     "text": [
      "Batch 0 finished with status: success \n",
      "Batch 1 finished with status: success \n",
      "Batch 2 finished with status: success \n",
      "Batch 3 finished with status: success \n",
      "Batch 4 finished with status: success \n",
      "Batch 5 finished with status: success \n",
      "Batch 6 finished with status: success \n",
      "Batch 7 finished with status: success \n",
      "Batch 8 finished with status: success \n",
      "Batch 9 finished with status: success \n",
      "Batch 10 finished with status: success \n",
      "Batch 11 finished with status: success \n",
      "Batch 12 finished with status: success \n",
      "Batch 13 finished with status: success \n",
      "Batch 14 finished with status: success \n",
      "Batch 15 finished with status: success \n",
      "Batch 16 finished with status: success \n",
      "Batch 17 finished with status: success \n",
      "Batch 18 finished with status: success \n",
      "Batch 19 finished with status: success \n"
     ]
    }
   ],
   "source": [
    "df_pbatch62 = call_subbatch(pbatch62)\n",
    "df_pbatch62.to_csv('data/pbatch62.csv')"
   ]
  },
  {
   "cell_type": "code",
   "execution_count": 107,
   "metadata": {},
   "outputs": [
    {
     "name": "stdout",
     "output_type": "stream",
     "text": [
      "Batch 0 finished with status: success \n",
      "Batch 1 finished with status: success \n",
      "Batch 2 finished with status: success \n",
      "Batch 3 finished with status: success \n",
      "Batch 4 finished with status: success \n",
      "Batch 5 finished with status: success \n",
      "Batch 6 finished with status: success \n",
      "Batch 7 finished with status: success \n",
      "Batch 8 finished with status: success \n",
      "Batch 9 finished with status: success \n",
      "Batch 10 finished with status: success \n",
      "Batch 11 finished with status: success \n",
      "Batch 12 finished with status: success \n",
      "Batch 13 finished with status: success \n",
      "Batch 14 finished with status: success \n",
      "Batch 15 finished with status: success \n",
      "Batch 16 finished with status: success \n",
      "Batch 17 finished with status: success \n",
      "Batch 18 finished with status: success \n",
      "Batch 19 finished with status: success \n"
     ]
    }
   ],
   "source": [
    "df_pbatch63 = call_subbatch(pbatch63)\n",
    "df_pbatch63.to_csv('data/pbatch63.csv')"
   ]
  },
  {
   "cell_type": "code",
   "execution_count": 108,
   "metadata": {},
   "outputs": [
    {
     "name": "stdout",
     "output_type": "stream",
     "text": [
      "Batch 0 finished with status: success \n",
      "Batch 1 finished with status: success \n",
      "Batch 2 finished with status: success \n",
      "Batch 3 finished with status: success \n",
      "Batch 4 finished with status: success \n",
      "Batch 5 finished with status: success \n",
      "Batch 6 finished with status: success \n",
      "Batch 7 finished with status: success \n",
      "Batch 8 finished with status: success \n",
      "Batch 9 finished with status: success \n",
      "Batch 10 finished with status: success \n",
      "Batch 11 finished with status: success \n",
      "Batch 12 finished with status: success \n",
      "Batch 13 finished with status: success \n",
      "Batch 14 finished with status: success \n",
      "Batch 15 finished with status: success \n",
      "Batch 16 finished with status: success \n",
      "Batch 17 finished with status: success \n",
      "Batch 18 finished with status: success \n",
      "Batch 19 finished with status: success \n"
     ]
    }
   ],
   "source": [
    "df_pbatch64 = call_subbatch(pbatch64)\n",
    "df_pbatch64.to_csv('data/pbatch64.csv')"
   ]
  },
  {
   "cell_type": "code",
   "execution_count": 109,
   "metadata": {},
   "outputs": [
    {
     "name": "stdout",
     "output_type": "stream",
     "text": [
      "Batch 0 finished with status: success \n",
      "Batch 1 finished with status: success \n",
      "Batch 2 finished with status: success \n",
      "Batch 3 finished with status: success \n",
      "Batch 4 finished with status: success \n",
      "Batch 5 finished with status: success \n",
      "Batch 6 finished with status: success \n",
      "Batch 7 finished with status: success \n",
      "Batch 8 finished with status: success \n",
      "Batch 9 finished with status: success \n",
      "Batch 10 finished with status: success \n",
      "Batch 11 finished with status: success \n",
      "Batch 12 finished with status: success \n",
      "Batch 13 finished with status: success \n",
      "Batch 14 finished with status: success \n",
      "Batch 15 finished with status: success \n",
      "Batch 16 finished with status: success \n",
      "Batch 17 finished with status: success \n",
      "Batch 18 finished with status: success \n",
      "Batch 19 finished with status: success \n"
     ]
    }
   ],
   "source": [
    "df_pbatch65 = call_subbatch(pbatch65)\n",
    "df_pbatch65.to_csv('data/pbatch65.csv')"
   ]
  },
  {
   "attachments": {},
   "cell_type": "markdown",
   "metadata": {},
   "source": [
    "#### 7"
   ]
  },
  {
   "cell_type": "code",
   "execution_count": 110,
   "metadata": {},
   "outputs": [
    {
     "name": "stdout",
     "output_type": "stream",
     "text": [
      "Batch 0 finished with status: success \n",
      "Batch 1 finished with status: success \n",
      "Batch 2 finished with status: success \n",
      "Batch 3 finished with status: success \n",
      "Batch 4 finished with status: success \n",
      "Batch 5 finished with status: success \n",
      "Batch 6 finished with status: success \n",
      "Batch 7 finished with status: success \n",
      "Batch 8 finished with status: success \n",
      "Batch 9 finished with status: success \n",
      "Batch 10 finished with status: success \n",
      "Batch 11 finished with status: success \n",
      "Batch 12 finished with status: success \n",
      "Batch 13 finished with status: success \n",
      "Batch 14 finished with status: success \n",
      "Batch 15 finished with status: success \n",
      "Batch 16 finished with status: success \n",
      "Batch 17 finished with status: success \n",
      "Batch 18 finished with status: success \n",
      "Batch 19 finished with status: success \n"
     ]
    }
   ],
   "source": [
    "df_pbatch71 = call_subbatch(pbatch71)\n",
    "df_pbatch71.to_csv('data/pbatch71.csv')"
   ]
  },
  {
   "cell_type": "code",
   "execution_count": 111,
   "metadata": {},
   "outputs": [
    {
     "name": "stdout",
     "output_type": "stream",
     "text": [
      "Batch 0 finished with status: success \n",
      "Batch 1 finished with status: success \n",
      "Batch 2 finished with status: success \n",
      "Batch 3 finished with status: success \n",
      "Batch 4 finished with status: success \n",
      "Batch 5 finished with status: success \n",
      "Batch 6 finished with status: success \n",
      "Batch 7 finished with status: success \n",
      "Batch 8 finished with status: success \n",
      "Batch 9 finished with status: success \n",
      "Batch 10 finished with status: success \n",
      "Batch 11 finished with status: success \n",
      "Batch 12 finished with status: success \n",
      "Batch 13 finished with status: success \n",
      "Batch 14 finished with status: success \n",
      "Batch 15 finished with status: success \n",
      "Batch 16 finished with status: success \n",
      "Batch 17 finished with status: success \n",
      "Batch 18 finished with status: success \n",
      "Batch 19 finished with status: success \n"
     ]
    }
   ],
   "source": [
    "df_pbatch72 = call_subbatch(pbatch72)\n",
    "df_pbatch72.to_csv('data/pbatch72.csv')"
   ]
  },
  {
   "cell_type": "code",
   "execution_count": 112,
   "metadata": {},
   "outputs": [
    {
     "name": "stdout",
     "output_type": "stream",
     "text": [
      "Batch 0 finished with status: success \n",
      "Batch 1 finished with status: success \n",
      "Batch 2 finished with status: success \n",
      "Batch 3 finished with status: success \n",
      "Batch 4 finished with status: success \n",
      "Batch 5 finished with status: success \n",
      "Batch 6 finished with status: success \n",
      "Batch 7 finished with status: success \n",
      "Batch 8 finished with status: success \n",
      "Batch 9 finished with status: success \n",
      "Batch 10 finished with status: success \n",
      "Batch 11 finished with status: success \n",
      "Batch 12 finished with status: success \n",
      "Batch 13 finished with status: success \n",
      "Batch 14 finished with status: success \n",
      "Batch 15 finished with status: success \n",
      "Batch 16 finished with status: success \n",
      "Batch 17 finished with status: success \n",
      "Batch 18 finished with status: success \n",
      "Batch 19 finished with status: success \n"
     ]
    }
   ],
   "source": [
    "df_pbatch73 = call_subbatch(pbatch73)\n",
    "df_pbatch73.to_csv('data/pbatch73.csv')"
   ]
  },
  {
   "cell_type": "code",
   "execution_count": 113,
   "metadata": {},
   "outputs": [
    {
     "name": "stdout",
     "output_type": "stream",
     "text": [
      "Batch 0 finished with status: success \n",
      "Batch 1 finished with status: success \n",
      "Batch 2 finished with status: success \n",
      "Batch 3 finished with status: success \n",
      "Batch 4 finished with status: success \n",
      "Batch 5 finished with status: success \n",
      "Batch 6 finished with status: success \n",
      "Batch 7 finished with status: success \n",
      "Batch 8 finished with status: success \n",
      "Batch 9 finished with status: success \n",
      "Batch 10 finished with status: success \n",
      "Batch 11 finished with status: success \n",
      "Batch 12 finished with status: success \n",
      "Batch 13 finished with status: success \n",
      "Batch 14 finished with status: success \n",
      "Batch 15 finished with status: success \n",
      "Batch 16 finished with status: success \n",
      "Batch 17 finished with status: success \n",
      "Batch 18 finished with status: success \n",
      "Batch 19 finished with status: success \n"
     ]
    }
   ],
   "source": [
    "df_pbatch74 = call_subbatch(pbatch74)\n",
    "df_pbatch74.to_csv('data/pbatch74.csv')"
   ]
  },
  {
   "attachments": {},
   "cell_type": "markdown",
   "metadata": {},
   "source": [
    "#### Can't run any more queries as API limit is exceeded."
   ]
  },
  {
   "cell_type": "code",
   "execution_count": null,
   "metadata": {},
   "outputs": [],
   "source": [
    "#df_pbatch75 = call_subbatch(pbatch75)\n",
    "#df_pbatch75.to_csv('data/pbatch75.csv')\n",
    "\n",
    "#df_pbatch81 = call_subbatch(pbatch81)\n",
    "#df_pbatch81.to_csv('data/pbatch81.csv')\n",
    "\n",
    "#df_pbatch82 = call_subbatch(pbatch82)\n",
    "#df_pbatch82.to_csv('data/pbatch82.csv')"
   ]
  },
  {
   "attachments": {},
   "cell_type": "markdown",
   "metadata": {},
   "source": [
    "### Read the larger query of matches"
   ]
  },
  {
   "cell_type": "code",
   "execution_count": 118,
   "metadata": {},
   "outputs": [],
   "source": [
    "import pandas as pd\n",
    "\n",
    "df00 = pd.read_csv('data/pbatch00.csv')\n",
    "df01 = pd.read_csv('data/pbatch01.csv')\n",
    "df02 = pd.read_csv('data/pbatch02.csv')\n",
    "df03 = pd.read_csv('data/pbatch03.csv')\n",
    "df04 = pd.read_csv('data/pbatch04.csv')\n",
    "df11 = pd.read_csv('data/pbatch11.csv')\n",
    "df12 = pd.read_csv('data/pbatch12.csv')\n",
    "df13 = pd.read_csv('data/pbatch13.csv')\n",
    "df14 = pd.read_csv('data/pbatch14.csv')\n",
    "df15 = pd.read_csv('data/pbatch15.csv')\n",
    "df21 = pd.read_csv('data/pbatch21.csv')\n",
    "df22 = pd.read_csv('data/pbatch22.csv')\n",
    "df23 = pd.read_csv('data/pbatch23.csv')\n",
    "df24 = pd.read_csv('data/pbatch24.csv')\n",
    "df25 = pd.read_csv('data/pbatch25.csv')\n",
    "df31 = pd.read_csv('data/pbatch31.csv')\n",
    "df32 = pd.read_csv('data/pbatch32.csv')\n",
    "df33 = pd.read_csv('data/pbatch33.csv')\n",
    "df34 = pd.read_csv('data/pbatch34.csv')\n",
    "df35 = pd.read_csv('data/pbatch35.csv')\n",
    "df41 = pd.read_csv('data/pbatch41.csv')\n",
    "df42 = pd.read_csv('data/pbatch42.csv')\n",
    "df43 = pd.read_csv('data/pbatch43.csv')\n",
    "df44 = pd.read_csv('data/pbatch44.csv')\n",
    "df45 = pd.read_csv('data/pbatch45.csv')\n",
    "df51 = pd.read_csv('data/pbatch51.csv')\n",
    "df52 = pd.read_csv('data/pbatch52.csv')\n",
    "df53 = pd.read_csv('data/pbatch53.csv')\n",
    "df54 = pd.read_csv('data/pbatch54.csv')\n",
    "df55 = pd.read_csv('data/pbatch55.csv')\n",
    "df61 = pd.read_csv('data/pbatch61.csv')\n",
    "df62 = pd.read_csv('data/pbatch62.csv')\n",
    "df63 = pd.read_csv('data/pbatch63.csv')\n",
    "df64 = pd.read_csv('data/pbatch64.csv')\n",
    "df65 = pd.read_csv('data/pbatch65.csv')\n",
    "df71 = pd.read_csv('data/pbatch71.csv')\n",
    "df72 = pd.read_csv('data/pbatch72.csv')\n",
    "df73 = pd.read_csv('data/pbatch73.csv')\n",
    "df74 = pd.read_csv('data/pbatch74.csv')\n",
    "\n",
    "# Concatenate the dataframes\n",
    "df_pbatch_list = [df00, df01, df02, df03, df04, df11, df12, df13, df14, df15, df21, df22, df23, df24, df25, df31, df32, df33, df34, df35,\n",
    "df41, df42, df43, df44, df45, df51, df52, df53, df54, df55,\n",
    "df61, df62, df63, df64, df65, df71, df72, df73, df74]\n",
    "\n",
    "#dota_pbatch_df = pd.concat(df_pbatch_list)\n",
    "#dota_pbatch_df.to_csv('dota_pbatch_df.csv')\n"
   ]
  },
  {
   "cell_type": "code",
   "execution_count": 123,
   "metadata": {},
   "outputs": [
    {
     "data": {
      "text/html": [
       "<div>\n",
       "<style scoped>\n",
       "    .dataframe tbody tr th:only-of-type {\n",
       "        vertical-align: middle;\n",
       "    }\n",
       "\n",
       "    .dataframe tbody tr th {\n",
       "        vertical-align: top;\n",
       "    }\n",
       "\n",
       "    .dataframe thead th {\n",
       "        text-align: right;\n",
       "    }\n",
       "</style>\n",
       "<table border=\"1\" class=\"dataframe\">\n",
       "  <thead>\n",
       "    <tr style=\"text-align: right;\">\n",
       "      <th></th>\n",
       "      <th>Unnamed: 0.1</th>\n",
       "      <th>Unnamed: 0</th>\n",
       "      <th>time</th>\n",
       "      <th>type</th>\n",
       "      <th>key</th>\n",
       "      <th>slot</th>\n",
       "      <th>player_slot</th>\n",
       "      <th>id</th>\n",
       "      <th>avg_mmr</th>\n",
       "      <th>unit</th>\n",
       "    </tr>\n",
       "  </thead>\n",
       "  <tbody>\n",
       "    <tr>\n",
       "      <th>74</th>\n",
       "      <td>74</td>\n",
       "      <td>74</td>\n",
       "      <td>2330</td>\n",
       "      <td>chat</td>\n",
       "      <td>feels ggood to carry this tilted animals</td>\n",
       "      <td>5</td>\n",
       "      <td>128</td>\n",
       "      <td>6946080308</td>\n",
       "      <td>6862</td>\n",
       "      <td>NaN</td>\n",
       "    </tr>\n",
       "    <tr>\n",
       "      <th>208</th>\n",
       "      <td>208</td>\n",
       "      <td>133</td>\n",
       "      <td>1230</td>\n",
       "      <td>chat</td>\n",
       "      <td>dsq</td>\n",
       "      <td>8</td>\n",
       "      <td>131</td>\n",
       "      <td>6933815002</td>\n",
       "      <td>5281</td>\n",
       "      <td>NaN</td>\n",
       "    </tr>\n",
       "    <tr>\n",
       "      <th>225</th>\n",
       "      <td>225</td>\n",
       "      <td>4</td>\n",
       "      <td>765</td>\n",
       "      <td>chat</td>\n",
       "      <td>笑死</td>\n",
       "      <td>9</td>\n",
       "      <td>132</td>\n",
       "      <td>6934942217</td>\n",
       "      <td>4570</td>\n",
       "      <td>NaN</td>\n",
       "    </tr>\n",
       "    <tr>\n",
       "      <th>231</th>\n",
       "      <td>231</td>\n",
       "      <td>10</td>\n",
       "      <td>1559</td>\n",
       "      <td>chat</td>\n",
       "      <td>想不开？</td>\n",
       "      <td>5</td>\n",
       "      <td>128</td>\n",
       "      <td>6934942217</td>\n",
       "      <td>4570</td>\n",
       "      <td>NaN</td>\n",
       "    </tr>\n",
       "    <tr>\n",
       "      <th>239</th>\n",
       "      <td>239</td>\n",
       "      <td>2</td>\n",
       "      <td>611</td>\n",
       "      <td>chat</td>\n",
       "      <td>火女？？、</td>\n",
       "      <td>7</td>\n",
       "      <td>130</td>\n",
       "      <td>6945694208</td>\n",
       "      <td>3824</td>\n",
       "      <td>NaN</td>\n",
       "    </tr>\n",
       "    <tr>\n",
       "      <th>...</th>\n",
       "      <td>...</td>\n",
       "      <td>...</td>\n",
       "      <td>...</td>\n",
       "      <td>...</td>\n",
       "      <td>...</td>\n",
       "      <td>...</td>\n",
       "      <td>...</td>\n",
       "      <td>...</td>\n",
       "      <td>...</td>\n",
       "      <td>...</td>\n",
       "    </tr>\n",
       "    <tr>\n",
       "      <th>36948</th>\n",
       "      <td>859</td>\n",
       "      <td>11</td>\n",
       "      <td>1709</td>\n",
       "      <td>chat</td>\n",
       "      <td>gg</td>\n",
       "      <td>0</td>\n",
       "      <td>0</td>\n",
       "      <td>6944091304</td>\n",
       "      <td>3477</td>\n",
       "      <td>NaN</td>\n",
       "    </tr>\n",
       "    <tr>\n",
       "      <th>36949</th>\n",
       "      <td>860</td>\n",
       "      <td>12</td>\n",
       "      <td>1714</td>\n",
       "      <td>chat</td>\n",
       "      <td>GG</td>\n",
       "      <td>0</td>\n",
       "      <td>0</td>\n",
       "      <td>6944091304</td>\n",
       "      <td>3477</td>\n",
       "      <td>NaN</td>\n",
       "    </tr>\n",
       "    <tr>\n",
       "      <th>36950</th>\n",
       "      <td>861</td>\n",
       "      <td>13</td>\n",
       "      <td>1718</td>\n",
       "      <td>chat</td>\n",
       "      <td>GG</td>\n",
       "      <td>2</td>\n",
       "      <td>2</td>\n",
       "      <td>6944091304</td>\n",
       "      <td>3477</td>\n",
       "      <td>NaN</td>\n",
       "    </tr>\n",
       "    <tr>\n",
       "      <th>36951</th>\n",
       "      <td>862</td>\n",
       "      <td>14</td>\n",
       "      <td>1721</td>\n",
       "      <td>chat</td>\n",
       "      <td>gg</td>\n",
       "      <td>2</td>\n",
       "      <td>2</td>\n",
       "      <td>6944091304</td>\n",
       "      <td>3477</td>\n",
       "      <td>NaN</td>\n",
       "    </tr>\n",
       "    <tr>\n",
       "      <th>36952</th>\n",
       "      <td>863</td>\n",
       "      <td>15</td>\n",
       "      <td>1801</td>\n",
       "      <td>chat</td>\n",
       "      <td>GG</td>\n",
       "      <td>4</td>\n",
       "      <td>4</td>\n",
       "      <td>6944091304</td>\n",
       "      <td>3477</td>\n",
       "      <td>NaN</td>\n",
       "    </tr>\n",
       "  </tbody>\n",
       "</table>\n",
       "<p>6603 rows × 10 columns</p>\n",
       "</div>"
      ],
      "text/plain": [
       "       Unnamed: 0.1  Unnamed: 0  time  type  \\\n",
       "74               74          74  2330  chat   \n",
       "208             208         133  1230  chat   \n",
       "225             225           4   765  chat   \n",
       "231             231          10  1559  chat   \n",
       "239             239           2   611  chat   \n",
       "...             ...         ...   ...   ...   \n",
       "36948           859          11  1709  chat   \n",
       "36949           860          12  1714  chat   \n",
       "36950           861          13  1718  chat   \n",
       "36951           862          14  1721  chat   \n",
       "36952           863          15  1801  chat   \n",
       "\n",
       "                                            key  slot  player_slot  \\\n",
       "74     feels ggood to carry this tilted animals     5          128   \n",
       "208                                         dsq     8          131   \n",
       "225                                          笑死     9          132   \n",
       "231                                        想不开？     5          128   \n",
       "239                                       火女？？、     7          130   \n",
       "...                                         ...   ...          ...   \n",
       "36948                                        gg     0            0   \n",
       "36949                                        GG     0            0   \n",
       "36950                                        GG     2            2   \n",
       "36951                                        gg     2            2   \n",
       "36952                                        GG     4            4   \n",
       "\n",
       "               id  avg_mmr unit  \n",
       "74     6946080308     6862  NaN  \n",
       "208    6933815002     5281  NaN  \n",
       "225    6934942217     4570  NaN  \n",
       "231    6934942217     4570  NaN  \n",
       "239    6945694208     3824  NaN  \n",
       "...           ...      ...  ...  \n",
       "36948  6944091304     3477  NaN  \n",
       "36949  6944091304     3477  NaN  \n",
       "36950  6944091304     3477  NaN  \n",
       "36951  6944091304     3477  NaN  \n",
       "36952  6944091304     3477  NaN  \n",
       "\n",
       "[6603 rows x 10 columns]"
      ]
     },
     "execution_count": 123,
     "metadata": {},
     "output_type": "execute_result"
    }
   ],
   "source": [
    "## Create subbatches\n",
    "# Read and subset the chat messages\n",
    "dota2_pbatch_df = pd.read_csv('dota_pbatch_df.csv')\n",
    "dota_chatframe = dota2_pbatch_df.loc[dota2_pbatch_df['type'] == \"chat\"]\n",
    "dota_chatframe\n"
   ]
  },
  {
   "attachments": {},
   "cell_type": "markdown",
   "metadata": {},
   "source": [
    "## Checking if we've sampled the same matches"
   ]
  },
  {
   "cell_type": "code",
   "execution_count": 125,
   "metadata": {},
   "outputs": [
    {
     "data": {
      "text/html": [
       "<div>\n",
       "<style scoped>\n",
       "    .dataframe tbody tr th:only-of-type {\n",
       "        vertical-align: middle;\n",
       "    }\n",
       "\n",
       "    .dataframe tbody tr th {\n",
       "        vertical-align: top;\n",
       "    }\n",
       "\n",
       "    .dataframe thead th {\n",
       "        text-align: right;\n",
       "    }\n",
       "</style>\n",
       "<table border=\"1\" class=\"dataframe\">\n",
       "  <thead>\n",
       "    <tr style=\"text-align: right;\">\n",
       "      <th></th>\n",
       "      <th>Unnamed: 0.1</th>\n",
       "      <th>Unnamed: 0</th>\n",
       "      <th>time</th>\n",
       "      <th>type</th>\n",
       "      <th>key</th>\n",
       "      <th>slot</th>\n",
       "      <th>player_slot</th>\n",
       "      <th>id</th>\n",
       "      <th>avg_mmr</th>\n",
       "      <th>unit</th>\n",
       "    </tr>\n",
       "  </thead>\n",
       "  <tbody>\n",
       "    <tr>\n",
       "      <th>51</th>\n",
       "      <td>51</td>\n",
       "      <td>51</td>\n",
       "      <td>807</td>\n",
       "      <td>chat</td>\n",
       "      <td>GANEN SU WEBADA</td>\n",
       "      <td>9</td>\n",
       "      <td>132</td>\n",
       "      <td>6629454411</td>\n",
       "      <td>3012</td>\n",
       "      <td>NaN</td>\n",
       "    </tr>\n",
       "    <tr>\n",
       "      <th>52</th>\n",
       "      <td>52</td>\n",
       "      <td>52</td>\n",
       "      <td>820</td>\n",
       "      <td>chat</td>\n",
       "      <td>GRACIAS</td>\n",
       "      <td>9</td>\n",
       "      <td>132</td>\n",
       "      <td>6629454411</td>\n",
       "      <td>3012</td>\n",
       "      <td>NaN</td>\n",
       "    </tr>\n",
       "    <tr>\n",
       "      <th>53</th>\n",
       "      <td>53</td>\n",
       "      <td>53</td>\n",
       "      <td>920</td>\n",
       "      <td>chat</td>\n",
       "      <td>TREMNENDA COMPRA CUENTAS MI AM</td>\n",
       "      <td>7</td>\n",
       "      <td>130</td>\n",
       "      <td>6629454411</td>\n",
       "      <td>3012</td>\n",
       "      <td>NaN</td>\n",
       "    </tr>\n",
       "    <tr>\n",
       "      <th>54</th>\n",
       "      <td>54</td>\n",
       "      <td>54</td>\n",
       "      <td>924</td>\n",
       "      <td>chat</td>\n",
       "      <td>1K DE MRD SIN ITEMS</td>\n",
       "      <td>7</td>\n",
       "      <td>130</td>\n",
       "      <td>6629454411</td>\n",
       "      <td>3012</td>\n",
       "      <td>NaN</td>\n",
       "    </tr>\n",
       "    <tr>\n",
       "      <th>67</th>\n",
       "      <td>67</td>\n",
       "      <td>67</td>\n",
       "      <td>1263</td>\n",
       "      <td>chat</td>\n",
       "      <td>xdd</td>\n",
       "      <td>0</td>\n",
       "      <td>0</td>\n",
       "      <td>6629454411</td>\n",
       "      <td>3012</td>\n",
       "      <td>NaN</td>\n",
       "    </tr>\n",
       "    <tr>\n",
       "      <th>...</th>\n",
       "      <td>...</td>\n",
       "      <td>...</td>\n",
       "      <td>...</td>\n",
       "      <td>...</td>\n",
       "      <td>...</td>\n",
       "      <td>...</td>\n",
       "      <td>...</td>\n",
       "      <td>...</td>\n",
       "      <td>...</td>\n",
       "      <td>...</td>\n",
       "    </tr>\n",
       "    <tr>\n",
       "      <th>27078</th>\n",
       "      <td>311</td>\n",
       "      <td>17</td>\n",
       "      <td>2287</td>\n",
       "      <td>chat</td>\n",
       "      <td>pango aegis?</td>\n",
       "      <td>5</td>\n",
       "      <td>128</td>\n",
       "      <td>6662919204</td>\n",
       "      <td>2082</td>\n",
       "      <td>NaN</td>\n",
       "    </tr>\n",
       "    <tr>\n",
       "      <th>27079</th>\n",
       "      <td>312</td>\n",
       "      <td>18</td>\n",
       "      <td>2287</td>\n",
       "      <td>chat</td>\n",
       "      <td>wtf</td>\n",
       "      <td>5</td>\n",
       "      <td>128</td>\n",
       "      <td>6662919204</td>\n",
       "      <td>2082</td>\n",
       "      <td>NaN</td>\n",
       "    </tr>\n",
       "    <tr>\n",
       "      <th>27085</th>\n",
       "      <td>318</td>\n",
       "      <td>24</td>\n",
       "      <td>2755</td>\n",
       "      <td>chat</td>\n",
       "      <td>report PA please</td>\n",
       "      <td>5</td>\n",
       "      <td>128</td>\n",
       "      <td>6662919204</td>\n",
       "      <td>2082</td>\n",
       "      <td>NaN</td>\n",
       "    </tr>\n",
       "    <tr>\n",
       "      <th>27086</th>\n",
       "      <td>319</td>\n",
       "      <td>25</td>\n",
       "      <td>2775</td>\n",
       "      <td>chat</td>\n",
       "      <td>он не пендос так что нет</td>\n",
       "      <td>4</td>\n",
       "      <td>4</td>\n",
       "      <td>6662919204</td>\n",
       "      <td>2082</td>\n",
       "      <td>NaN</td>\n",
       "    </tr>\n",
       "    <tr>\n",
       "      <th>27087</th>\n",
       "      <td>320</td>\n",
       "      <td>26</td>\n",
       "      <td>3021</td>\n",
       "      <td>chat</td>\n",
       "      <td>ez</td>\n",
       "      <td>0</td>\n",
       "      <td>0</td>\n",
       "      <td>6662919204</td>\n",
       "      <td>2082</td>\n",
       "      <td>NaN</td>\n",
       "    </tr>\n",
       "  </tbody>\n",
       "</table>\n",
       "<p>4720 rows × 10 columns</p>\n",
       "</div>"
      ],
      "text/plain": [
       "       Unnamed: 0.1  Unnamed: 0  time  type                             key  \\\n",
       "51               51          51   807  chat                 GANEN SU WEBADA   \n",
       "52               52          52   820  chat                         GRACIAS   \n",
       "53               53          53   920  chat  TREMNENDA COMPRA CUENTAS MI AM   \n",
       "54               54          54   924  chat             1K DE MRD SIN ITEMS   \n",
       "67               67          67  1263  chat                             xdd   \n",
       "...             ...         ...   ...   ...                             ...   \n",
       "27078           311          17  2287  chat                    pango aegis?   \n",
       "27079           312          18  2287  chat                             wtf   \n",
       "27085           318          24  2755  chat                report PA please   \n",
       "27086           319          25  2775  chat        он не пендос так что нет   \n",
       "27087           320          26  3021  chat                              ez   \n",
       "\n",
       "       slot  player_slot          id  avg_mmr unit  \n",
       "51        9          132  6629454411     3012  NaN  \n",
       "52        9          132  6629454411     3012  NaN  \n",
       "53        7          130  6629454411     3012  NaN  \n",
       "54        7          130  6629454411     3012  NaN  \n",
       "67        0            0  6629454411     3012  NaN  \n",
       "...     ...          ...         ...      ...  ...  \n",
       "27078     5          128  6662919204     2082  NaN  \n",
       "27079     5          128  6662919204     2082  NaN  \n",
       "27085     5          128  6662919204     2082  NaN  \n",
       "27086     4            4  6662919204     2082  NaN  \n",
       "27087     0            0  6662919204     2082  NaN  \n",
       "\n",
       "[4720 rows x 10 columns]"
      ]
     },
     "execution_count": 125,
     "metadata": {},
     "output_type": "execute_result"
    }
   ],
   "source": [
    "dota2_df = pd.read_csv('dota_df.csv')\n",
    "dota_chats = dota2_df.loc[dota2_df['type'] == \"chat\"]\n",
    "dota_chats"
   ]
  },
  {
   "attachments": {},
   "cell_type": "markdown",
   "metadata": {},
   "source": [
    "No matching match_ids so we can join the two data frames"
   ]
  },
  {
   "cell_type": "code",
   "execution_count": 129,
   "metadata": {},
   "outputs": [
    {
     "data": {
      "text/plain": [
       "set()"
      ]
     },
     "execution_count": 129,
     "metadata": {},
     "output_type": "execute_result"
    }
   ],
   "source": [
    "a = set(dota_chats['id'])\n",
    "b = set(dota_chatframe['id'])\n"
   ]
  },
  {
   "cell_type": "code",
   "execution_count": 130,
   "metadata": {},
   "outputs": [],
   "source": [
    "combine_list = [dota2_df, dota2_pbatch_df]\n",
    "combined_df = pd.concat(combine_list)\n",
    "combined_df.to_csv('combined_df.csv')\n"
   ]
  },
  {
   "attachments": {},
   "cell_type": "markdown",
   "metadata": {},
   "source": [
    "### Read em again"
   ]
  },
  {
   "cell_type": "code",
   "execution_count": 3,
   "metadata": {},
   "outputs": [
    {
     "data": {
      "text/html": [
       "<div>\n",
       "<style scoped>\n",
       "    .dataframe tbody tr th:only-of-type {\n",
       "        vertical-align: middle;\n",
       "    }\n",
       "\n",
       "    .dataframe tbody tr th {\n",
       "        vertical-align: top;\n",
       "    }\n",
       "\n",
       "    .dataframe thead th {\n",
       "        text-align: right;\n",
       "    }\n",
       "</style>\n",
       "<table border=\"1\" class=\"dataframe\">\n",
       "  <thead>\n",
       "    <tr style=\"text-align: right;\">\n",
       "      <th></th>\n",
       "      <th>Unnamed: 0.2</th>\n",
       "      <th>Unnamed: 0.1</th>\n",
       "      <th>Unnamed: 0</th>\n",
       "      <th>time</th>\n",
       "      <th>type</th>\n",
       "      <th>key</th>\n",
       "      <th>slot</th>\n",
       "      <th>player_slot</th>\n",
       "      <th>id</th>\n",
       "      <th>avg_mmr</th>\n",
       "      <th>unit</th>\n",
       "    </tr>\n",
       "  </thead>\n",
       "  <tbody>\n",
       "    <tr>\n",
       "      <th>51</th>\n",
       "      <td>51</td>\n",
       "      <td>51</td>\n",
       "      <td>51</td>\n",
       "      <td>807</td>\n",
       "      <td>chat</td>\n",
       "      <td>GANEN SU WEBADA</td>\n",
       "      <td>9</td>\n",
       "      <td>132</td>\n",
       "      <td>6629454411</td>\n",
       "      <td>3012</td>\n",
       "      <td>NaN</td>\n",
       "    </tr>\n",
       "    <tr>\n",
       "      <th>52</th>\n",
       "      <td>52</td>\n",
       "      <td>52</td>\n",
       "      <td>52</td>\n",
       "      <td>820</td>\n",
       "      <td>chat</td>\n",
       "      <td>GRACIAS</td>\n",
       "      <td>9</td>\n",
       "      <td>132</td>\n",
       "      <td>6629454411</td>\n",
       "      <td>3012</td>\n",
       "      <td>NaN</td>\n",
       "    </tr>\n",
       "    <tr>\n",
       "      <th>53</th>\n",
       "      <td>53</td>\n",
       "      <td>53</td>\n",
       "      <td>53</td>\n",
       "      <td>920</td>\n",
       "      <td>chat</td>\n",
       "      <td>TREMNENDA COMPRA CUENTAS MI AM</td>\n",
       "      <td>7</td>\n",
       "      <td>130</td>\n",
       "      <td>6629454411</td>\n",
       "      <td>3012</td>\n",
       "      <td>NaN</td>\n",
       "    </tr>\n",
       "    <tr>\n",
       "      <th>54</th>\n",
       "      <td>54</td>\n",
       "      <td>54</td>\n",
       "      <td>54</td>\n",
       "      <td>924</td>\n",
       "      <td>chat</td>\n",
       "      <td>1K DE MRD SIN ITEMS</td>\n",
       "      <td>7</td>\n",
       "      <td>130</td>\n",
       "      <td>6629454411</td>\n",
       "      <td>3012</td>\n",
       "      <td>NaN</td>\n",
       "    </tr>\n",
       "    <tr>\n",
       "      <th>67</th>\n",
       "      <td>67</td>\n",
       "      <td>67</td>\n",
       "      <td>67</td>\n",
       "      <td>1263</td>\n",
       "      <td>chat</td>\n",
       "      <td>xdd</td>\n",
       "      <td>0</td>\n",
       "      <td>0</td>\n",
       "      <td>6629454411</td>\n",
       "      <td>3012</td>\n",
       "      <td>NaN</td>\n",
       "    </tr>\n",
       "    <tr>\n",
       "      <th>...</th>\n",
       "      <td>...</td>\n",
       "      <td>...</td>\n",
       "      <td>...</td>\n",
       "      <td>...</td>\n",
       "      <td>...</td>\n",
       "      <td>...</td>\n",
       "      <td>...</td>\n",
       "      <td>...</td>\n",
       "      <td>...</td>\n",
       "      <td>...</td>\n",
       "      <td>...</td>\n",
       "    </tr>\n",
       "    <tr>\n",
       "      <th>64038</th>\n",
       "      <td>36948</td>\n",
       "      <td>859</td>\n",
       "      <td>11</td>\n",
       "      <td>1709</td>\n",
       "      <td>chat</td>\n",
       "      <td>gg</td>\n",
       "      <td>0</td>\n",
       "      <td>0</td>\n",
       "      <td>6944091304</td>\n",
       "      <td>3477</td>\n",
       "      <td>NaN</td>\n",
       "    </tr>\n",
       "    <tr>\n",
       "      <th>64039</th>\n",
       "      <td>36949</td>\n",
       "      <td>860</td>\n",
       "      <td>12</td>\n",
       "      <td>1714</td>\n",
       "      <td>chat</td>\n",
       "      <td>GG</td>\n",
       "      <td>0</td>\n",
       "      <td>0</td>\n",
       "      <td>6944091304</td>\n",
       "      <td>3477</td>\n",
       "      <td>NaN</td>\n",
       "    </tr>\n",
       "    <tr>\n",
       "      <th>64040</th>\n",
       "      <td>36950</td>\n",
       "      <td>861</td>\n",
       "      <td>13</td>\n",
       "      <td>1718</td>\n",
       "      <td>chat</td>\n",
       "      <td>GG</td>\n",
       "      <td>2</td>\n",
       "      <td>2</td>\n",
       "      <td>6944091304</td>\n",
       "      <td>3477</td>\n",
       "      <td>NaN</td>\n",
       "    </tr>\n",
       "    <tr>\n",
       "      <th>64041</th>\n",
       "      <td>36951</td>\n",
       "      <td>862</td>\n",
       "      <td>14</td>\n",
       "      <td>1721</td>\n",
       "      <td>chat</td>\n",
       "      <td>gg</td>\n",
       "      <td>2</td>\n",
       "      <td>2</td>\n",
       "      <td>6944091304</td>\n",
       "      <td>3477</td>\n",
       "      <td>NaN</td>\n",
       "    </tr>\n",
       "    <tr>\n",
       "      <th>64042</th>\n",
       "      <td>36952</td>\n",
       "      <td>863</td>\n",
       "      <td>15</td>\n",
       "      <td>1801</td>\n",
       "      <td>chat</td>\n",
       "      <td>GG</td>\n",
       "      <td>4</td>\n",
       "      <td>4</td>\n",
       "      <td>6944091304</td>\n",
       "      <td>3477</td>\n",
       "      <td>NaN</td>\n",
       "    </tr>\n",
       "  </tbody>\n",
       "</table>\n",
       "<p>11323 rows × 11 columns</p>\n",
       "</div>"
      ],
      "text/plain": [
       "       Unnamed: 0.2  Unnamed: 0.1  Unnamed: 0  time  type  \\\n",
       "51               51            51          51   807  chat   \n",
       "52               52            52          52   820  chat   \n",
       "53               53            53          53   920  chat   \n",
       "54               54            54          54   924  chat   \n",
       "67               67            67          67  1263  chat   \n",
       "...             ...           ...         ...   ...   ...   \n",
       "64038         36948           859          11  1709  chat   \n",
       "64039         36949           860          12  1714  chat   \n",
       "64040         36950           861          13  1718  chat   \n",
       "64041         36951           862          14  1721  chat   \n",
       "64042         36952           863          15  1801  chat   \n",
       "\n",
       "                                  key  slot  player_slot          id  avg_mmr  \\\n",
       "51                    GANEN SU WEBADA     9          132  6629454411     3012   \n",
       "52                            GRACIAS     9          132  6629454411     3012   \n",
       "53     TREMNENDA COMPRA CUENTAS MI AM     7          130  6629454411     3012   \n",
       "54                1K DE MRD SIN ITEMS     7          130  6629454411     3012   \n",
       "67                                xdd     0            0  6629454411     3012   \n",
       "...                               ...   ...          ...         ...      ...   \n",
       "64038                              gg     0            0  6944091304     3477   \n",
       "64039                              GG     0            0  6944091304     3477   \n",
       "64040                              GG     2            2  6944091304     3477   \n",
       "64041                              gg     2            2  6944091304     3477   \n",
       "64042                              GG     4            4  6944091304     3477   \n",
       "\n",
       "      unit  \n",
       "51     NaN  \n",
       "52     NaN  \n",
       "53     NaN  \n",
       "54     NaN  \n",
       "67     NaN  \n",
       "...    ...  \n",
       "64038  NaN  \n",
       "64039  NaN  \n",
       "64040  NaN  \n",
       "64041  NaN  \n",
       "64042  NaN  \n",
       "\n",
       "[11323 rows x 11 columns]"
      ]
     },
     "execution_count": 3,
     "metadata": {},
     "output_type": "execute_result"
    }
   ],
   "source": [
    "import pandas as pd\n",
    "dota_combined_df = pd.read_csv('combined_df.csv')\n",
    "dota_combined_df_chats = dota_combined_df.loc[dota_combined_df['type'] == \"chat\"]\n",
    "dota_combined_df_chats"
   ]
  },
  {
   "attachments": {},
   "cell_type": "markdown",
   "metadata": {},
   "source": [
    "## Retrieved chat statistics"
   ]
  },
  {
   "cell_type": "code",
   "execution_count": 4,
   "metadata": {},
   "outputs": [
    {
     "data": {
      "text/plain": [
       "900"
      ]
     },
     "execution_count": 4,
     "metadata": {},
     "output_type": "execute_result"
    }
   ],
   "source": [
    "len(set(dota_combined_df_chats[\"id\"]))"
   ]
  }
 ],
 "metadata": {
  "kernelspec": {
   "display_name": "Python 3",
   "language": "python",
   "name": "python3"
  },
  "language_info": {
   "codemirror_mode": {
    "name": "ipython",
    "version": 3
   },
   "file_extension": ".py",
   "mimetype": "text/x-python",
   "name": "python",
   "nbconvert_exporter": "python",
   "pygments_lexer": "ipython3",
   "version": "3.9.6"
  },
  "orig_nbformat": 4,
  "vscode": {
   "interpreter": {
    "hash": "3ffd4e4dae639e11765e3e6fb37b78aa2471431bf7a893c0c6cc3d46dc1606d5"
   }
  }
 },
 "nbformat": 4,
 "nbformat_minor": 2
}
